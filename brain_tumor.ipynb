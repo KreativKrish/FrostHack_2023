{
  "nbformat": 4,
  "nbformat_minor": 0,
  "metadata": {
    "colab": {
      "provenance": [],
      "mount_file_id": "1qlvF4Etw5uVxNsXei7fvuZu0A8rlbPNd",
      "authorship_tag": "ABX9TyO5b1EyC4kXZQPXHR1sGUBh",
      "include_colab_link": true
    },
    "kernelspec": {
      "name": "python3",
      "display_name": "Python 3"
    },
    "language_info": {
      "name": "python"
    },
    "gpuClass": "standard",
    "accelerator": "GPU"
  },
  "cells": [
    {
      "cell_type": "markdown",
      "metadata": {
        "id": "view-in-github",
        "colab_type": "text"
      },
      "source": [
        "<a href=\"https://colab.research.google.com/github/KreativKrish/FrostHack_2023/blob/root/brain_tumor.ipynb\" target=\"_parent\"><img src=\"https://colab.research.google.com/assets/colab-badge.svg\" alt=\"Open In Colab\"/></a>"
      ]
    },
    {
      "cell_type": "code",
      "source": [
        "import warnings\n",
        "warnings.filterwarnings('ignore')"
      ],
      "metadata": {
        "id": "IpdRv8tgO3jg"
      },
      "execution_count": 7,
      "outputs": []
    },
    {
      "cell_type": "code",
      "source": [
        "import numpy as np\n",
        "import matplotlib.pyplot as plt\n",
        "import os\n",
        "import math\n",
        "import shutil\n",
        "import glob\n",
        "import cv2\n",
        "import seaborn as sns\n",
        "\n",
        "color = sns.color_palette()\n",
        "%matplotlib inline\n",
        "%config InlineBackend.figure_format=\"svg\"\n"
      ],
      "metadata": {
        "id": "5OxruPidSh1K"
      },
      "execution_count": 8,
      "outputs": []
    },
    {
      "cell_type": "code",
      "source": [
        "!unzip /content/drive/MyDrive/Brain_tumour/archive.zip"
      ],
      "metadata": {
        "id": "cRKdd4o39uai"
      },
      "execution_count": 9,
      "outputs": []
    },
    {
      "cell_type": "code",
      "execution_count": 10,
      "metadata": {
        "id": "lUdqA7QdJnng"
      },
      "outputs": [],
      "source": [
        "#get the data from\n",
        "ROOT_DIR = \"/content/Brain_tumor\""
      ]
    },
    {
      "cell_type": "code",
      "source": [
        "num_of_images = {}\n",
        "for dir in os.listdir(ROOT_DIR):\n",
        "  num_of_images[dir] = len(os.listdir(os.path.join(ROOT_DIR,dir)))\n"
      ],
      "metadata": {
        "id": "GUFGj9hdTsm0"
      },
      "execution_count": 38,
      "outputs": []
    },
    {
      "cell_type": "code",
      "source": [
        "num_of_images.items()"
      ],
      "metadata": {
        "colab": {
          "base_uri": "https://localhost:8080/"
        },
        "id": "lnVX3Y6MU6zb",
        "outputId": "e2e43d25-9487-4ddc-bfa9-c38cc65d34cd"
      },
      "execution_count": 12,
      "outputs": [
        {
          "output_type": "execute_result",
          "data": {
            "text/plain": [
              "dict_items([('yes', 1500), ('no', 1500)])"
            ]
          },
          "metadata": {},
          "execution_count": 12
        }
      ]
    },
    {
      "cell_type": "markdown",
      "source": [
        "#We will split the data such that \n",
        "  * 70% for training data \n",
        "  * 15% for testing data \n",
        "  * 15% for Validation"
      ],
      "metadata": {
        "id": "P3QkjlkDTXmr"
      }
    },
    {
      "cell_type": "code",
      "source": [
        "# create a training folder \n",
        "def data_folder(p,split):\n",
        "\n",
        "  if not os.path.exists(\"./\"+p):\n",
        "    os.mkdir(\"./\"+p)\n",
        "    for dir in os.listdir(ROOT_DIR):\n",
        "      os.makedirs(\"./\"+p+\"/\"+dir)\n",
        "\n",
        "      for img in np.random.choice(a = os.listdir(os.path.join(ROOT_DIR,dir)),\n",
        "                                  size = math.floor(split*num_of_images[dir]),\n",
        "                                  replace = False):\n",
        "        O = os.path.join(ROOT_DIR,dir,img)\n",
        "        D = os.path.join(\"./\"+p,dir)\n",
        "        shutil.copy(O,D)\n",
        "        os.remove(O)\n",
        "    else:\n",
        "      print(f\"{p} folder exists\")"
      ],
      "metadata": {
        "id": "nNDVUPfLTGyT"
      },
      "execution_count": 13,
      "outputs": []
    },
    {
      "cell_type": "code",
      "source": [
        "data_folder(\"train\",0.7)  \n"
      ],
      "metadata": {
        "colab": {
          "base_uri": "https://localhost:8080/"
        },
        "id": "Q00vBT2EX7vY",
        "outputId": "61c84109-e993-43ca-b8fd-fd7aacc43d47"
      },
      "execution_count": 14,
      "outputs": [
        {
          "output_type": "stream",
          "name": "stdout",
          "text": [
            "train folder exists\n"
          ]
        }
      ]
    },
    {
      "cell_type": "code",
      "source": [
        "data_folder(\"val\",0.15)"
      ],
      "metadata": {
        "colab": {
          "base_uri": "https://localhost:8080/"
        },
        "id": "pdue5dnhcPa5",
        "outputId": "f20944e5-4209-4a53-eaaf-7b5e91fb30f3"
      },
      "execution_count": 15,
      "outputs": [
        {
          "output_type": "stream",
          "name": "stdout",
          "text": [
            "val folder exists\n"
          ]
        }
      ]
    },
    {
      "cell_type": "code",
      "source": [
        "data_folder(\"test\",0.15)"
      ],
      "metadata": {
        "colab": {
          "base_uri": "https://localhost:8080/"
        },
        "id": "_-pI-TblcRjq",
        "outputId": "a83f3496-5d6f-49de-cf1f-9cae10701ca7"
      },
      "execution_count": 16,
      "outputs": [
        {
          "output_type": "stream",
          "name": "stdout",
          "text": [
            "test folder exists\n"
          ]
        }
      ]
    },
    {
      "cell_type": "code",
      "source": [
        "num_of_images = {}\n",
        "for dir in os.listdir(\"/content/train\"):\n",
        "  num_of_images[dir] = len(os.listdir(os.path.join(\"/content/train\",dir)))\n",
        "\n",
        "num_of_images.items()"
      ],
      "metadata": {
        "colab": {
          "base_uri": "https://localhost:8080/"
        },
        "id": "XpzjH3xgcgv7",
        "outputId": "c1b0130b-ea06-48ac-9832-461c15e81722"
      },
      "execution_count": 17,
      "outputs": [
        {
          "output_type": "execute_result",
          "data": {
            "text/plain": [
              "dict_items([('yes', 1050), ('no', 1050)])"
            ]
          },
          "metadata": {},
          "execution_count": 17
        }
      ]
    },
    {
      "cell_type": "markdown",
      "source": [
        "# Model Building"
      ],
      "metadata": {
        "id": "vlV53MhmeipW"
      }
    },
    {
      "cell_type": "code",
      "source": [
        "from keras.layers import Conv2D, MaxPool2D, Dropout, Flatten , Dense, BatchNormalization, GlobalAvgPool2D\n",
        "from keras.models import Sequential\n",
        "from tensorflow.keras.utils import image_dataset_from_directory\n",
        "from keras.preprocessing.image import ImageDataGenerator\n",
        "import keras \n"
      ],
      "metadata": {
        "id": "jo11rxKocix5"
      },
      "execution_count": 18,
      "outputs": []
    },
    {
      "cell_type": "code",
      "source": [
        "# CNN Model\n",
        "model = Sequential()\n",
        "\n",
        "model.add(Conv2D(filters = 16, kernel_size = (3,3),activation = 'relu', input_shape = (256,256,3), padding = 'same'))\n",
        "model.add(MaxPool2D(pool_size = (2,2)))\n",
        "\n",
        "model.add(Conv2D(filters = 36, kernel_size = (3,3),activation = 'relu'))\n",
        "model.add(MaxPool2D(pool_size = (2,2)))\n",
        "\n",
        "model.add(Conv2D(filters = 64, kernel_size = (3,3),activation = 'relu'))\n",
        "model.add(MaxPool2D(pool_size = (2,2)))\n",
        "\n",
        "model.add(Conv2D(filters = 128, kernel_size = (3,3),activation = 'relu'))\n",
        "model.add(MaxPool2D(pool_size = (2,2)))\n",
        "\n",
        "model.add(Dropout(rate = 0.25))\n",
        "\n",
        "model.add(Flatten())\n",
        "model.add(Dense(64,activation = \"relu\"))\n",
        "model.add(Dropout(rate = 0.25))\n",
        "model.add(Dense(1,activation = \"sigmoid\"))\n",
        "\n",
        "model.summary()\n",
        "\n"
      ],
      "metadata": {
        "colab": {
          "base_uri": "https://localhost:8080/"
        },
        "id": "__Cvq6jEidjY",
        "outputId": "6738acf9-a850-49dc-f8f0-44e63d31ac2d"
      },
      "execution_count": 19,
      "outputs": [
        {
          "output_type": "stream",
          "name": "stdout",
          "text": [
            "Model: \"sequential\"\n",
            "_________________________________________________________________\n",
            " Layer (type)                Output Shape              Param #   \n",
            "=================================================================\n",
            " conv2d (Conv2D)             (None, 256, 256, 16)      448       \n",
            "                                                                 \n",
            " max_pooling2d (MaxPooling2D  (None, 128, 128, 16)     0         \n",
            " )                                                               \n",
            "                                                                 \n",
            " conv2d_1 (Conv2D)           (None, 126, 126, 36)      5220      \n",
            "                                                                 \n",
            " max_pooling2d_1 (MaxPooling  (None, 63, 63, 36)       0         \n",
            " 2D)                                                             \n",
            "                                                                 \n",
            " conv2d_2 (Conv2D)           (None, 61, 61, 64)        20800     \n",
            "                                                                 \n",
            " max_pooling2d_2 (MaxPooling  (None, 30, 30, 64)       0         \n",
            " 2D)                                                             \n",
            "                                                                 \n",
            " conv2d_3 (Conv2D)           (None, 28, 28, 128)       73856     \n",
            "                                                                 \n",
            " max_pooling2d_3 (MaxPooling  (None, 14, 14, 128)      0         \n",
            " 2D)                                                             \n",
            "                                                                 \n",
            " dropout (Dropout)           (None, 14, 14, 128)       0         \n",
            "                                                                 \n",
            " flatten (Flatten)           (None, 25088)             0         \n",
            "                                                                 \n",
            " dense (Dense)               (None, 64)                1605696   \n",
            "                                                                 \n",
            " dropout_1 (Dropout)         (None, 64)                0         \n",
            "                                                                 \n",
            " dense_1 (Dense)             (None, 1)                 65        \n",
            "                                                                 \n",
            "=================================================================\n",
            "Total params: 1,706,085\n",
            "Trainable params: 1,706,085\n",
            "Non-trainable params: 0\n",
            "_________________________________________________________________\n"
          ]
        }
      ]
    },
    {
      "cell_type": "code",
      "source": [
        "model.compile(optimizer = 'adam', loss = keras.losses.binary_crossentropy, metrics = [\"accuracy\"])"
      ],
      "metadata": {
        "id": "JKVnG5Yrm_Bi"
      },
      "execution_count": 20,
      "outputs": []
    },
    {
      "cell_type": "markdown",
      "source": [
        "Preparing our data using Data Generator "
      ],
      "metadata": {
        "id": "heJ7SpOupwdN"
      }
    },
    {
      "cell_type": "code",
      "source": [
        "def preprocessingImages1(path):\n",
        "  \"\"\" \n",
        "  input : Path \n",
        "  Output : Preprocessed images \n",
        "  \"\"\"\n",
        "  image_data = ImageDataGenerator(zoom_range = 0.2, shear_range=0.2, rescale = 1/255,horizontal_flip=True)\n",
        "  image = image_data.flow_from_directory(directory= path, target_size=(256,256),batch_size = 32,class_mode='binary')\n",
        "\n",
        "  # image_dataset_from_directory(directory=path,batch_size= 32,image_size=(224,224),shuffle = True,)\n",
        "\n",
        "\n",
        "  return image\n",
        "\n",
        "\n",
        "\n"
      ],
      "metadata": {
        "id": "W1P7Gac-n91b"
      },
      "execution_count": 21,
      "outputs": []
    },
    {
      "cell_type": "code",
      "source": [
        "path = \"/content/train\"\n",
        "train_data = preprocessingImages1(path)"
      ],
      "metadata": {
        "colab": {
          "base_uri": "https://localhost:8080/"
        },
        "id": "nS5TpRNxoAGj",
        "outputId": "e53e9e38-18be-4553-fa46-8c423d580376"
      },
      "execution_count": 22,
      "outputs": [
        {
          "output_type": "stream",
          "name": "stdout",
          "text": [
            "Found 2100 images belonging to 2 classes.\n"
          ]
        }
      ]
    },
    {
      "cell_type": "code",
      "source": [
        "def preprocessingImages2(path):\n",
        "  \"\"\" \n",
        "  input : Path \n",
        "  Output : Preprocessed images \n",
        "  \"\"\"\n",
        "  image_data = ImageDataGenerator(rescale = 1/255)\n",
        "  image = image_data.flow_from_directory(directory= path, target_size=(256,256),batch_size = 32,class_mode='binary')\n",
        "\n",
        "  # image_dataset_from_directory(directory=path,batch_size= 32,image_size=(224,224),shuffle = True,)\n",
        "\n",
        "\n",
        "  return image\n"
      ],
      "metadata": {
        "id": "0aIasOmkn__2"
      },
      "execution_count": 23,
      "outputs": []
    },
    {
      "cell_type": "code",
      "source": [
        "path = \"/content/test\"\n",
        "test_data = preprocessingImages2(path)"
      ],
      "metadata": {
        "colab": {
          "base_uri": "https://localhost:8080/"
        },
        "id": "f8-sZlEwn_8i",
        "outputId": "fda2de8f-d34b-464d-86f2-836edb3495ab"
      },
      "execution_count": 24,
      "outputs": [
        {
          "output_type": "stream",
          "name": "stdout",
          "text": [
            "Found 450 images belonging to 2 classes.\n"
          ]
        }
      ]
    },
    {
      "cell_type": "code",
      "source": [
        "path = \"/content/val\"\n",
        "val_data = preprocessingImages2(path)"
      ],
      "metadata": {
        "colab": {
          "base_uri": "https://localhost:8080/"
        },
        "id": "1fLrqnA6n9xp",
        "outputId": "415b4ba3-228e-4ad3-ce86-539d56a4e8f4"
      },
      "execution_count": 25,
      "outputs": [
        {
          "output_type": "stream",
          "name": "stdout",
          "text": [
            "Found 450 images belonging to 2 classes.\n"
          ]
        }
      ]
    },
    {
      "cell_type": "code",
      "source": [
        "# early stopping and model check point \n",
        "\n",
        "from keras.callbacks import  ModelCheckpoint, EarlyStopping\n",
        "\n",
        "#early stopping \n",
        "\n",
        "es = EarlyStopping(monitor = \"val_accuracy\", min_delta = 0.01, patience = 8,verbose = 1,mode = 'auto')\n",
        "\n",
        "#model checkpoint\n",
        "mc = ModelCheckpoint(monitor = \"val_accuracy\", filepath= \"./bestmodel.h5\",verbose = 1,save_best_only=True,mode = 'auto')\n",
        "\n",
        "cd = [es,mc]"
      ],
      "metadata": {
        "id": "dWC5yvpon9tH"
      },
      "execution_count": 26,
      "outputs": []
    },
    {
      "cell_type": "code",
      "source": [
        "STEPS_PER_EPOCH = 2100//32\n",
        "\n",
        "VALIDATION_STEPS = 450//32 # if you have validation data "
      ],
      "metadata": {
        "id": "Iw7XwF1aCQ6L"
      },
      "execution_count": 27,
      "outputs": []
    },
    {
      "cell_type": "code",
      "source": [
        "print(STEPS_PER_EPOCH)\n",
        "print(VALIDATION_STEPS)"
      ],
      "metadata": {
        "colab": {
          "base_uri": "https://localhost:8080/"
        },
        "id": "WXbV93pxCl0V",
        "outputId": "f187b7af-fec5-4a65-cd6c-bf44693b5f4d"
      },
      "execution_count": 28,
      "outputs": [
        {
          "output_type": "stream",
          "name": "stdout",
          "text": [
            "65\n",
            "14\n"
          ]
        }
      ]
    },
    {
      "cell_type": "markdown",
      "source": [
        "# Training the model"
      ],
      "metadata": {
        "id": "Ddl15t7szK2O"
      }
    },
    {
      "cell_type": "code",
      "source": [
        "hs = model.fit_generator(generator = train_data,\n",
        "                         steps_per_epoch=STEPS_PER_EPOCH,\n",
        "                         epochs=40,\n",
        "                         verbose = 1,\n",
        "                         validation_data = val_data,\n",
        "                         validation_steps=VALIDATION_STEPS,\n",
        "                         callbacks = cd)\n"
      ],
      "metadata": {
        "colab": {
          "base_uri": "https://localhost:8080/"
        },
        "id": "enbNp6sIzGj7",
        "outputId": "32af0291-b910-47e2-b5da-821ff43fec5b"
      },
      "execution_count": 29,
      "outputs": [
        {
          "output_type": "stream",
          "name": "stdout",
          "text": [
            "Epoch 1/40\n",
            "65/65 [==============================] - ETA: 0s - loss: 0.5747 - accuracy: 0.6978\n",
            "Epoch 1: val_accuracy improved from -inf to 0.84152, saving model to ./bestmodel.h5\n",
            "65/65 [==============================] - 51s 564ms/step - loss: 0.5747 - accuracy: 0.6978 - val_loss: 0.4197 - val_accuracy: 0.8415\n",
            "Epoch 2/40\n",
            "65/65 [==============================] - ETA: 0s - loss: 0.4443 - accuracy: 0.8071\n",
            "Epoch 2: val_accuracy improved from 0.84152 to 0.85714, saving model to ./bestmodel.h5\n",
            "65/65 [==============================] - 38s 579ms/step - loss: 0.4443 - accuracy: 0.8071 - val_loss: 0.3260 - val_accuracy: 0.8571\n",
            "Epoch 3/40\n",
            "65/65 [==============================] - ETA: 0s - loss: 0.3843 - accuracy: 0.8366\n",
            "Epoch 3: val_accuracy did not improve from 0.85714\n",
            "65/65 [==============================] - 39s 602ms/step - loss: 0.3843 - accuracy: 0.8366 - val_loss: 0.3396 - val_accuracy: 0.8549\n",
            "Epoch 4/40\n",
            "65/65 [==============================] - ETA: 0s - loss: 0.3549 - accuracy: 0.8457\n",
            "Epoch 4: val_accuracy improved from 0.85714 to 0.88170, saving model to ./bestmodel.h5\n",
            "65/65 [==============================] - 36s 551ms/step - loss: 0.3549 - accuracy: 0.8457 - val_loss: 0.2824 - val_accuracy: 0.8817\n",
            "Epoch 5/40\n",
            "65/65 [==============================] - ETA: 0s - loss: 0.3296 - accuracy: 0.8574\n",
            "Epoch 5: val_accuracy did not improve from 0.88170\n",
            "65/65 [==============================] - 36s 554ms/step - loss: 0.3296 - accuracy: 0.8574 - val_loss: 0.3271 - val_accuracy: 0.8638\n",
            "Epoch 6/40\n",
            "65/65 [==============================] - ETA: 0s - loss: 0.2920 - accuracy: 0.8806\n",
            "Epoch 6: val_accuracy improved from 0.88170 to 0.89955, saving model to ./bestmodel.h5\n",
            "65/65 [==============================] - 36s 546ms/step - loss: 0.2920 - accuracy: 0.8806 - val_loss: 0.2187 - val_accuracy: 0.8996\n",
            "Epoch 7/40\n",
            "65/65 [==============================] - ETA: 0s - loss: 0.2502 - accuracy: 0.9072\n",
            "Epoch 7: val_accuracy improved from 0.89955 to 0.91518, saving model to ./bestmodel.h5\n",
            "65/65 [==============================] - 36s 560ms/step - loss: 0.2502 - accuracy: 0.9072 - val_loss: 0.2352 - val_accuracy: 0.9152\n",
            "Epoch 8/40\n",
            "65/65 [==============================] - ETA: 0s - loss: 0.2549 - accuracy: 0.9004\n",
            "Epoch 8: val_accuracy improved from 0.91518 to 0.93527, saving model to ./bestmodel.h5\n",
            "65/65 [==============================] - 38s 582ms/step - loss: 0.2549 - accuracy: 0.9004 - val_loss: 0.1666 - val_accuracy: 0.9353\n",
            "Epoch 9/40\n",
            "65/65 [==============================] - ETA: 0s - loss: 0.2019 - accuracy: 0.9260\n",
            "Epoch 9: val_accuracy did not improve from 0.93527\n",
            "65/65 [==============================] - 37s 571ms/step - loss: 0.2019 - accuracy: 0.9260 - val_loss: 0.1419 - val_accuracy: 0.9308\n",
            "Epoch 10/40\n",
            "65/65 [==============================] - ETA: 0s - loss: 0.1984 - accuracy: 0.9202\n",
            "Epoch 10: val_accuracy improved from 0.93527 to 0.93973, saving model to ./bestmodel.h5\n",
            "65/65 [==============================] - 37s 569ms/step - loss: 0.1984 - accuracy: 0.9202 - val_loss: 0.1701 - val_accuracy: 0.9397\n",
            "Epoch 11/40\n",
            "65/65 [==============================] - ETA: 0s - loss: 0.1778 - accuracy: 0.9289\n",
            "Epoch 11: val_accuracy improved from 0.93973 to 0.95759, saving model to ./bestmodel.h5\n",
            "65/65 [==============================] - 37s 562ms/step - loss: 0.1778 - accuracy: 0.9289 - val_loss: 0.1133 - val_accuracy: 0.9576\n",
            "Epoch 12/40\n",
            "65/65 [==============================] - ETA: 0s - loss: 0.1368 - accuracy: 0.9478\n",
            "Epoch 12: val_accuracy did not improve from 0.95759\n",
            "65/65 [==============================] - 36s 561ms/step - loss: 0.1368 - accuracy: 0.9478 - val_loss: 0.1144 - val_accuracy: 0.9576\n",
            "Epoch 13/40\n",
            "65/65 [==============================] - ETA: 0s - loss: 0.1357 - accuracy: 0.9521\n",
            "Epoch 13: val_accuracy improved from 0.95759 to 0.96429, saving model to ./bestmodel.h5\n",
            "65/65 [==============================] - 35s 539ms/step - loss: 0.1357 - accuracy: 0.9521 - val_loss: 0.1093 - val_accuracy: 0.9643\n",
            "Epoch 14/40\n",
            "65/65 [==============================] - ETA: 0s - loss: 0.1266 - accuracy: 0.9545\n",
            "Epoch 14: val_accuracy did not improve from 0.96429\n",
            "65/65 [==============================] - 37s 577ms/step - loss: 0.1266 - accuracy: 0.9545 - val_loss: 0.1142 - val_accuracy: 0.9598\n",
            "Epoch 15/40\n",
            "65/65 [==============================] - ETA: 0s - loss: 0.0846 - accuracy: 0.9729\n",
            "Epoch 15: val_accuracy improved from 0.96429 to 0.97098, saving model to ./bestmodel.h5\n",
            "65/65 [==============================] - 36s 555ms/step - loss: 0.0846 - accuracy: 0.9729 - val_loss: 0.0790 - val_accuracy: 0.9710\n",
            "Epoch 16/40\n",
            "65/65 [==============================] - ETA: 0s - loss: 0.1034 - accuracy: 0.9637\n",
            "Epoch 16: val_accuracy improved from 0.97098 to 0.97545, saving model to ./bestmodel.h5\n",
            "65/65 [==============================] - 37s 564ms/step - loss: 0.1034 - accuracy: 0.9637 - val_loss: 0.0686 - val_accuracy: 0.9754\n",
            "Epoch 17/40\n",
            "65/65 [==============================] - ETA: 0s - loss: 0.0904 - accuracy: 0.9705\n",
            "Epoch 17: val_accuracy did not improve from 0.97545\n",
            "65/65 [==============================] - 37s 559ms/step - loss: 0.0904 - accuracy: 0.9705 - val_loss: 0.0672 - val_accuracy: 0.9710\n",
            "Epoch 18/40\n",
            "65/65 [==============================] - ETA: 0s - loss: 0.0927 - accuracy: 0.9705\n",
            "Epoch 18: val_accuracy did not improve from 0.97545\n",
            "65/65 [==============================] - 36s 558ms/step - loss: 0.0927 - accuracy: 0.9705 - val_loss: 0.0787 - val_accuracy: 0.9754\n",
            "Epoch 19/40\n",
            "65/65 [==============================] - ETA: 0s - loss: 0.0788 - accuracy: 0.9710\n",
            "Epoch 19: val_accuracy did not improve from 0.97545\n",
            "65/65 [==============================] - 37s 575ms/step - loss: 0.0788 - accuracy: 0.9710 - val_loss: 0.2747 - val_accuracy: 0.9152\n",
            "Epoch 20/40\n",
            "65/65 [==============================] - ETA: 0s - loss: 0.0846 - accuracy: 0.9705\n",
            "Epoch 20: val_accuracy improved from 0.97545 to 0.98438, saving model to ./bestmodel.h5\n",
            "65/65 [==============================] - 39s 598ms/step - loss: 0.0846 - accuracy: 0.9705 - val_loss: 0.0756 - val_accuracy: 0.9844\n",
            "Epoch 21/40\n",
            "65/65 [==============================] - ETA: 0s - loss: 0.0675 - accuracy: 0.9792\n",
            "Epoch 21: val_accuracy did not improve from 0.98438\n",
            "65/65 [==============================] - 38s 585ms/step - loss: 0.0675 - accuracy: 0.9792 - val_loss: 0.1255 - val_accuracy: 0.9554\n",
            "Epoch 22/40\n",
            "65/65 [==============================] - ETA: 0s - loss: 0.0745 - accuracy: 0.9758\n",
            "Epoch 22: val_accuracy did not improve from 0.98438\n",
            "65/65 [==============================] - 35s 545ms/step - loss: 0.0745 - accuracy: 0.9758 - val_loss: 0.0696 - val_accuracy: 0.9799\n",
            "Epoch 23/40\n",
            "65/65 [==============================] - ETA: 0s - loss: 0.0615 - accuracy: 0.9758\n",
            "Epoch 23: val_accuracy did not improve from 0.98438\n",
            "65/65 [==============================] - 36s 549ms/step - loss: 0.0615 - accuracy: 0.9758 - val_loss: 0.0761 - val_accuracy: 0.9799\n",
            "Epoch 24/40\n",
            "65/65 [==============================] - ETA: 0s - loss: 0.0646 - accuracy: 0.9768\n",
            "Epoch 24: val_accuracy did not improve from 0.98438\n",
            "65/65 [==============================] - 36s 551ms/step - loss: 0.0646 - accuracy: 0.9768 - val_loss: 0.0753 - val_accuracy: 0.9777\n",
            "Epoch 25/40\n",
            "65/65 [==============================] - ETA: 0s - loss: 0.0438 - accuracy: 0.9865\n",
            "Epoch 25: val_accuracy did not improve from 0.98438\n",
            "65/65 [==============================] - 36s 551ms/step - loss: 0.0438 - accuracy: 0.9865 - val_loss: 0.0725 - val_accuracy: 0.9799\n",
            "Epoch 26/40\n",
            "65/65 [==============================] - ETA: 0s - loss: 0.0456 - accuracy: 0.9831\n",
            "Epoch 26: val_accuracy did not improve from 0.98438\n",
            "65/65 [==============================] - 37s 557ms/step - loss: 0.0456 - accuracy: 0.9831 - val_loss: 0.1065 - val_accuracy: 0.9754\n",
            "Epoch 27/40\n",
            "65/65 [==============================] - ETA: 0s - loss: 0.0689 - accuracy: 0.9758\n",
            "Epoch 27: val_accuracy did not improve from 0.98438\n",
            "65/65 [==============================] - 38s 586ms/step - loss: 0.0689 - accuracy: 0.9758 - val_loss: 0.0813 - val_accuracy: 0.9777\n",
            "Epoch 28/40\n",
            "65/65 [==============================] - ETA: 0s - loss: 0.0359 - accuracy: 0.9884\n",
            "Epoch 28: val_accuracy did not improve from 0.98438\n",
            "65/65 [==============================] - 36s 548ms/step - loss: 0.0359 - accuracy: 0.9884 - val_loss: 0.0919 - val_accuracy: 0.9777\n",
            "Epoch 28: early stopping\n"
          ]
        }
      ]
    },
    {
      "cell_type": "code",
      "source": [
        "#get the training and validation accuracy\n",
        "train_acc = hs.history['accuracy']\n",
        "valid_acc = hs.history['val_accuracy']\n",
        "\n",
        "#get the loss\n",
        "train_loss = hs.history['loss']\n",
        "valid_loss = hs.history['val_loss']\n",
        "\n",
        "#get the entries\n",
        "xvalues = np.arange(len(train_acc))\n",
        "\n",
        "#visualise\n",
        "f, ax = plt.subplots(1,2, figsize = (10,5))\n",
        "ax[0].plot(xvalues, train_loss)\n",
        "ax[0].plot(xvalues, valid_loss,c = \"red\")\n",
        "ax[0].set_title(\"Loss curve\")\n",
        "ax[0].set_xlabel(\"Epoch\")\n",
        "ax[0].set_ylabel(\"loss\")\n",
        "ax[0].legend(['train', 'validation'])\n",
        "\n",
        "ax[1].plot(xvalues, train_acc)\n",
        "ax[1].plot(xvalues, valid_acc)\n",
        "ax[1].set_title(\"Accuracy\")\n",
        "ax[1].set_xlabel(\"Epoch\")\n",
        "ax[1].set_ylabel(\"accuracy\")\n",
        "ax[1].legend(['train', 'validation'])\n",
        "\n",
        "plt.show()"
      ],
      "metadata": {
        "colab": {
          "base_uri": "https://localhost:8080/",
          "height": 464
        },
        "id": "nCJ1-8qK2JTe",
        "outputId": "e3bec4e7-130a-42fa-e5bd-664248fab4e3"
      },
      "execution_count": 30,
      "outputs": [
        {
          "output_type": "display_data",
          "data": {
            "text/plain": [
              "<Figure size 720x360 with 2 Axes>"
            ],
            "image/svg+xml": "<?xml version=\"1.0\" encoding=\"utf-8\" standalone=\"no\"?>\n<!DOCTYPE svg PUBLIC \"-//W3C//DTD SVG 1.1//EN\"\n  \"http://www.w3.org/Graphics/SVG/1.1/DTD/svg11.dtd\">\n<svg xmlns:xlink=\"http://www.w3.org/1999/xlink\" width=\"608.98125pt\" height=\"331.674375pt\" viewBox=\"0 0 608.98125 331.674375\" xmlns=\"http://www.w3.org/2000/svg\" version=\"1.1\">\n <metadata>\n  <rdf:RDF xmlns:dc=\"http://purl.org/dc/elements/1.1/\" xmlns:cc=\"http://creativecommons.org/ns#\" xmlns:rdf=\"http://www.w3.org/1999/02/22-rdf-syntax-ns#\">\n   <cc:Work>\n    <dc:type rdf:resource=\"http://purl.org/dc/dcmitype/StillImage\"/>\n    <dc:date>2023-03-04T14:55:13.323285</dc:date>\n    <dc:format>image/svg+xml</dc:format>\n    <dc:creator>\n     <cc:Agent>\n      <dc:title>Matplotlib v3.5.3, https://matplotlib.org/</dc:title>\n     </cc:Agent>\n    </dc:creator>\n   </cc:Work>\n  </rdf:RDF>\n </metadata>\n <defs>\n  <style type=\"text/css\">*{stroke-linejoin: round; stroke-linecap: butt}</style>\n </defs>\n <g id=\"figure_1\">\n  <g id=\"patch_1\">\n   <path d=\"M 0 331.674375 \nL 608.98125 331.674375 \nL 608.98125 0 \nL 0 0 \nL 0 331.674375 \nz\n\" style=\"fill: none\"/>\n  </g>\n  <g id=\"axes_1\">\n   <g id=\"patch_2\">\n    <path d=\"M 43.78125 294.118125 \nL 297.417614 294.118125 \nL 297.417614 22.318125 \nL 43.78125 22.318125 \nz\n\" style=\"fill: #ffffff\"/>\n   </g>\n   <g id=\"matplotlib.axis_1\">\n    <g id=\"xtick_1\">\n     <g id=\"line2d_1\">\n      <defs>\n       <path id=\"mf60192a5c4\" d=\"M 0 0 \nL 0 3.5 \n\" style=\"stroke: #000000; stroke-width: 0.8\"/>\n      </defs>\n      <g>\n       <use xlink:href=\"#mf60192a5c4\" x=\"55.310176\" y=\"294.118125\" style=\"stroke: #000000; stroke-width: 0.8\"/>\n      </g>\n     </g>\n     <g id=\"text_1\">\n      <!-- 0 -->\n      <g transform=\"translate(52.128926 308.716563)scale(0.1 -0.1)\">\n       <defs>\n        <path id=\"DejaVuSans-30\" d=\"M 2034 4250 \nQ 1547 4250 1301 3770 \nQ 1056 3291 1056 2328 \nQ 1056 1369 1301 889 \nQ 1547 409 2034 409 \nQ 2525 409 2770 889 \nQ 3016 1369 3016 2328 \nQ 3016 3291 2770 3770 \nQ 2525 4250 2034 4250 \nz\nM 2034 4750 \nQ 2819 4750 3233 4129 \nQ 3647 3509 3647 2328 \nQ 3647 1150 3233 529 \nQ 2819 -91 2034 -91 \nQ 1250 -91 836 529 \nQ 422 1150 422 2328 \nQ 422 3509 836 4129 \nQ 1250 4750 2034 4750 \nz\n\" transform=\"scale(0.015625)\"/>\n       </defs>\n       <use xlink:href=\"#DejaVuSans-30\"/>\n      </g>\n     </g>\n    </g>\n    <g id=\"xtick_2\">\n     <g id=\"line2d_2\">\n      <g>\n       <use xlink:href=\"#mf60192a5c4\" x=\"98.0099\" y=\"294.118125\" style=\"stroke: #000000; stroke-width: 0.8\"/>\n      </g>\n     </g>\n     <g id=\"text_2\">\n      <!-- 5 -->\n      <g transform=\"translate(94.82865 308.716563)scale(0.1 -0.1)\">\n       <defs>\n        <path id=\"DejaVuSans-35\" d=\"M 691 4666 \nL 3169 4666 \nL 3169 4134 \nL 1269 4134 \nL 1269 2991 \nQ 1406 3038 1543 3061 \nQ 1681 3084 1819 3084 \nQ 2600 3084 3056 2656 \nQ 3513 2228 3513 1497 \nQ 3513 744 3044 326 \nQ 2575 -91 1722 -91 \nQ 1428 -91 1123 -41 \nQ 819 9 494 109 \nL 494 744 \nQ 775 591 1075 516 \nQ 1375 441 1709 441 \nQ 2250 441 2565 725 \nQ 2881 1009 2881 1497 \nQ 2881 1984 2565 2268 \nQ 2250 2553 1709 2553 \nQ 1456 2553 1204 2497 \nQ 953 2441 691 2322 \nL 691 4666 \nz\n\" transform=\"scale(0.015625)\"/>\n       </defs>\n       <use xlink:href=\"#DejaVuSans-35\"/>\n      </g>\n     </g>\n    </g>\n    <g id=\"xtick_3\">\n     <g id=\"line2d_3\">\n      <g>\n       <use xlink:href=\"#mf60192a5c4\" x=\"140.709625\" y=\"294.118125\" style=\"stroke: #000000; stroke-width: 0.8\"/>\n      </g>\n     </g>\n     <g id=\"text_3\">\n      <!-- 10 -->\n      <g transform=\"translate(134.347125 308.716563)scale(0.1 -0.1)\">\n       <defs>\n        <path id=\"DejaVuSans-31\" d=\"M 794 531 \nL 1825 531 \nL 1825 4091 \nL 703 3866 \nL 703 4441 \nL 1819 4666 \nL 2450 4666 \nL 2450 531 \nL 3481 531 \nL 3481 0 \nL 794 0 \nL 794 531 \nz\n\" transform=\"scale(0.015625)\"/>\n       </defs>\n       <use xlink:href=\"#DejaVuSans-31\"/>\n       <use xlink:href=\"#DejaVuSans-30\" x=\"63.623047\"/>\n      </g>\n     </g>\n    </g>\n    <g id=\"xtick_4\">\n     <g id=\"line2d_4\">\n      <g>\n       <use xlink:href=\"#mf60192a5c4\" x=\"183.409349\" y=\"294.118125\" style=\"stroke: #000000; stroke-width: 0.8\"/>\n      </g>\n     </g>\n     <g id=\"text_4\">\n      <!-- 15 -->\n      <g transform=\"translate(177.046849 308.716563)scale(0.1 -0.1)\">\n       <use xlink:href=\"#DejaVuSans-31\"/>\n       <use xlink:href=\"#DejaVuSans-35\" x=\"63.623047\"/>\n      </g>\n     </g>\n    </g>\n    <g id=\"xtick_5\">\n     <g id=\"line2d_5\">\n      <g>\n       <use xlink:href=\"#mf60192a5c4\" x=\"226.109074\" y=\"294.118125\" style=\"stroke: #000000; stroke-width: 0.8\"/>\n      </g>\n     </g>\n     <g id=\"text_5\">\n      <!-- 20 -->\n      <g transform=\"translate(219.746574 308.716563)scale(0.1 -0.1)\">\n       <defs>\n        <path id=\"DejaVuSans-32\" d=\"M 1228 531 \nL 3431 531 \nL 3431 0 \nL 469 0 \nL 469 531 \nQ 828 903 1448 1529 \nQ 2069 2156 2228 2338 \nQ 2531 2678 2651 2914 \nQ 2772 3150 2772 3378 \nQ 2772 3750 2511 3984 \nQ 2250 4219 1831 4219 \nQ 1534 4219 1204 4116 \nQ 875 4013 500 3803 \nL 500 4441 \nQ 881 4594 1212 4672 \nQ 1544 4750 1819 4750 \nQ 2544 4750 2975 4387 \nQ 3406 4025 3406 3419 \nQ 3406 3131 3298 2873 \nQ 3191 2616 2906 2266 \nQ 2828 2175 2409 1742 \nQ 1991 1309 1228 531 \nz\n\" transform=\"scale(0.015625)\"/>\n       </defs>\n       <use xlink:href=\"#DejaVuSans-32\"/>\n       <use xlink:href=\"#DejaVuSans-30\" x=\"63.623047\"/>\n      </g>\n     </g>\n    </g>\n    <g id=\"xtick_6\">\n     <g id=\"line2d_6\">\n      <g>\n       <use xlink:href=\"#mf60192a5c4\" x=\"268.808798\" y=\"294.118125\" style=\"stroke: #000000; stroke-width: 0.8\"/>\n      </g>\n     </g>\n     <g id=\"text_6\">\n      <!-- 25 -->\n      <g transform=\"translate(262.446298 308.716563)scale(0.1 -0.1)\">\n       <use xlink:href=\"#DejaVuSans-32\"/>\n       <use xlink:href=\"#DejaVuSans-35\" x=\"63.623047\"/>\n      </g>\n     </g>\n    </g>\n    <g id=\"text_7\">\n     <!-- Epoch -->\n     <g transform=\"translate(155.288494 322.394687)scale(0.1 -0.1)\">\n      <defs>\n       <path id=\"DejaVuSans-45\" d=\"M 628 4666 \nL 3578 4666 \nL 3578 4134 \nL 1259 4134 \nL 1259 2753 \nL 3481 2753 \nL 3481 2222 \nL 1259 2222 \nL 1259 531 \nL 3634 531 \nL 3634 0 \nL 628 0 \nL 628 4666 \nz\n\" transform=\"scale(0.015625)\"/>\n       <path id=\"DejaVuSans-70\" d=\"M 1159 525 \nL 1159 -1331 \nL 581 -1331 \nL 581 3500 \nL 1159 3500 \nL 1159 2969 \nQ 1341 3281 1617 3432 \nQ 1894 3584 2278 3584 \nQ 2916 3584 3314 3078 \nQ 3713 2572 3713 1747 \nQ 3713 922 3314 415 \nQ 2916 -91 2278 -91 \nQ 1894 -91 1617 61 \nQ 1341 213 1159 525 \nz\nM 3116 1747 \nQ 3116 2381 2855 2742 \nQ 2594 3103 2138 3103 \nQ 1681 3103 1420 2742 \nQ 1159 2381 1159 1747 \nQ 1159 1113 1420 752 \nQ 1681 391 2138 391 \nQ 2594 391 2855 752 \nQ 3116 1113 3116 1747 \nz\n\" transform=\"scale(0.015625)\"/>\n       <path id=\"DejaVuSans-6f\" d=\"M 1959 3097 \nQ 1497 3097 1228 2736 \nQ 959 2375 959 1747 \nQ 959 1119 1226 758 \nQ 1494 397 1959 397 \nQ 2419 397 2687 759 \nQ 2956 1122 2956 1747 \nQ 2956 2369 2687 2733 \nQ 2419 3097 1959 3097 \nz\nM 1959 3584 \nQ 2709 3584 3137 3096 \nQ 3566 2609 3566 1747 \nQ 3566 888 3137 398 \nQ 2709 -91 1959 -91 \nQ 1206 -91 779 398 \nQ 353 888 353 1747 \nQ 353 2609 779 3096 \nQ 1206 3584 1959 3584 \nz\n\" transform=\"scale(0.015625)\"/>\n       <path id=\"DejaVuSans-63\" d=\"M 3122 3366 \nL 3122 2828 \nQ 2878 2963 2633 3030 \nQ 2388 3097 2138 3097 \nQ 1578 3097 1268 2742 \nQ 959 2388 959 1747 \nQ 959 1106 1268 751 \nQ 1578 397 2138 397 \nQ 2388 397 2633 464 \nQ 2878 531 3122 666 \nL 3122 134 \nQ 2881 22 2623 -34 \nQ 2366 -91 2075 -91 \nQ 1284 -91 818 406 \nQ 353 903 353 1747 \nQ 353 2603 823 3093 \nQ 1294 3584 2113 3584 \nQ 2378 3584 2631 3529 \nQ 2884 3475 3122 3366 \nz\n\" transform=\"scale(0.015625)\"/>\n       <path id=\"DejaVuSans-68\" d=\"M 3513 2113 \nL 3513 0 \nL 2938 0 \nL 2938 2094 \nQ 2938 2591 2744 2837 \nQ 2550 3084 2163 3084 \nQ 1697 3084 1428 2787 \nQ 1159 2491 1159 1978 \nL 1159 0 \nL 581 0 \nL 581 4863 \nL 1159 4863 \nL 1159 2956 \nQ 1366 3272 1645 3428 \nQ 1925 3584 2291 3584 \nQ 2894 3584 3203 3211 \nQ 3513 2838 3513 2113 \nz\n\" transform=\"scale(0.015625)\"/>\n      </defs>\n      <use xlink:href=\"#DejaVuSans-45\"/>\n      <use xlink:href=\"#DejaVuSans-70\" x=\"63.183594\"/>\n      <use xlink:href=\"#DejaVuSans-6f\" x=\"126.660156\"/>\n      <use xlink:href=\"#DejaVuSans-63\" x=\"187.841797\"/>\n      <use xlink:href=\"#DejaVuSans-68\" x=\"242.822266\"/>\n     </g>\n    </g>\n   </g>\n   <g id=\"matplotlib.axis_2\">\n    <g id=\"ytick_1\">\n     <g id=\"line2d_7\">\n      <defs>\n       <path id=\"m42921b72ac\" d=\"M 0 0 \nL -3.5 0 \n\" style=\"stroke: #000000; stroke-width: 0.8\"/>\n      </defs>\n      <g>\n       <use xlink:href=\"#m42921b72ac\" x=\"43.78125\" y=\"252.372328\" style=\"stroke: #000000; stroke-width: 0.8\"/>\n      </g>\n     </g>\n     <g id=\"text_8\">\n      <!-- 0.1 -->\n      <g transform=\"translate(20.878125 256.171547)scale(0.1 -0.1)\">\n       <defs>\n        <path id=\"DejaVuSans-2e\" d=\"M 684 794 \nL 1344 794 \nL 1344 0 \nL 684 0 \nL 684 794 \nz\n\" transform=\"scale(0.015625)\"/>\n       </defs>\n       <use xlink:href=\"#DejaVuSans-30\"/>\n       <use xlink:href=\"#DejaVuSans-2e\" x=\"63.623047\"/>\n       <use xlink:href=\"#DejaVuSans-31\" x=\"95.410156\"/>\n      </g>\n     </g>\n    </g>\n    <g id=\"ytick_2\">\n     <g id=\"line2d_8\">\n      <g>\n       <use xlink:href=\"#m42921b72ac\" x=\"43.78125\" y=\"206.512519\" style=\"stroke: #000000; stroke-width: 0.8\"/>\n      </g>\n     </g>\n     <g id=\"text_9\">\n      <!-- 0.2 -->\n      <g transform=\"translate(20.878125 210.311737)scale(0.1 -0.1)\">\n       <use xlink:href=\"#DejaVuSans-30\"/>\n       <use xlink:href=\"#DejaVuSans-2e\" x=\"63.623047\"/>\n       <use xlink:href=\"#DejaVuSans-32\" x=\"95.410156\"/>\n      </g>\n     </g>\n    </g>\n    <g id=\"ytick_3\">\n     <g id=\"line2d_9\">\n      <g>\n       <use xlink:href=\"#m42921b72ac\" x=\"43.78125\" y=\"160.652709\" style=\"stroke: #000000; stroke-width: 0.8\"/>\n      </g>\n     </g>\n     <g id=\"text_10\">\n      <!-- 0.3 -->\n      <g transform=\"translate(20.878125 164.451928)scale(0.1 -0.1)\">\n       <defs>\n        <path id=\"DejaVuSans-33\" d=\"M 2597 2516 \nQ 3050 2419 3304 2112 \nQ 3559 1806 3559 1356 \nQ 3559 666 3084 287 \nQ 2609 -91 1734 -91 \nQ 1441 -91 1130 -33 \nQ 819 25 488 141 \nL 488 750 \nQ 750 597 1062 519 \nQ 1375 441 1716 441 \nQ 2309 441 2620 675 \nQ 2931 909 2931 1356 \nQ 2931 1769 2642 2001 \nQ 2353 2234 1838 2234 \nL 1294 2234 \nL 1294 2753 \nL 1863 2753 \nQ 2328 2753 2575 2939 \nQ 2822 3125 2822 3475 \nQ 2822 3834 2567 4026 \nQ 2313 4219 1838 4219 \nQ 1578 4219 1281 4162 \nQ 984 4106 628 3988 \nL 628 4550 \nQ 988 4650 1302 4700 \nQ 1616 4750 1894 4750 \nQ 2613 4750 3031 4423 \nQ 3450 4097 3450 3541 \nQ 3450 3153 3228 2886 \nQ 3006 2619 2597 2516 \nz\n\" transform=\"scale(0.015625)\"/>\n       </defs>\n       <use xlink:href=\"#DejaVuSans-30\"/>\n       <use xlink:href=\"#DejaVuSans-2e\" x=\"63.623047\"/>\n       <use xlink:href=\"#DejaVuSans-33\" x=\"95.410156\"/>\n      </g>\n     </g>\n    </g>\n    <g id=\"ytick_4\">\n     <g id=\"line2d_10\">\n      <g>\n       <use xlink:href=\"#m42921b72ac\" x=\"43.78125\" y=\"114.7929\" style=\"stroke: #000000; stroke-width: 0.8\"/>\n      </g>\n     </g>\n     <g id=\"text_11\">\n      <!-- 0.4 -->\n      <g transform=\"translate(20.878125 118.592119)scale(0.1 -0.1)\">\n       <defs>\n        <path id=\"DejaVuSans-34\" d=\"M 2419 4116 \nL 825 1625 \nL 2419 1625 \nL 2419 4116 \nz\nM 2253 4666 \nL 3047 4666 \nL 3047 1625 \nL 3713 1625 \nL 3713 1100 \nL 3047 1100 \nL 3047 0 \nL 2419 0 \nL 2419 1100 \nL 313 1100 \nL 313 1709 \nL 2253 4666 \nz\n\" transform=\"scale(0.015625)\"/>\n       </defs>\n       <use xlink:href=\"#DejaVuSans-30\"/>\n       <use xlink:href=\"#DejaVuSans-2e\" x=\"63.623047\"/>\n       <use xlink:href=\"#DejaVuSans-34\" x=\"95.410156\"/>\n      </g>\n     </g>\n    </g>\n    <g id=\"ytick_5\">\n     <g id=\"line2d_11\">\n      <g>\n       <use xlink:href=\"#m42921b72ac\" x=\"43.78125\" y=\"68.933091\" style=\"stroke: #000000; stroke-width: 0.8\"/>\n      </g>\n     </g>\n     <g id=\"text_12\">\n      <!-- 0.5 -->\n      <g transform=\"translate(20.878125 72.732309)scale(0.1 -0.1)\">\n       <use xlink:href=\"#DejaVuSans-30\"/>\n       <use xlink:href=\"#DejaVuSans-2e\" x=\"63.623047\"/>\n       <use xlink:href=\"#DejaVuSans-35\" x=\"95.410156\"/>\n      </g>\n     </g>\n    </g>\n    <g id=\"ytick_6\">\n     <g id=\"line2d_12\">\n      <g>\n       <use xlink:href=\"#m42921b72ac\" x=\"43.78125\" y=\"23.073281\" style=\"stroke: #000000; stroke-width: 0.8\"/>\n      </g>\n     </g>\n     <g id=\"text_13\">\n      <!-- 0.6 -->\n      <g transform=\"translate(20.878125 26.8725)scale(0.1 -0.1)\">\n       <defs>\n        <path id=\"DejaVuSans-36\" d=\"M 2113 2584 \nQ 1688 2584 1439 2293 \nQ 1191 2003 1191 1497 \nQ 1191 994 1439 701 \nQ 1688 409 2113 409 \nQ 2538 409 2786 701 \nQ 3034 994 3034 1497 \nQ 3034 2003 2786 2293 \nQ 2538 2584 2113 2584 \nz\nM 3366 4563 \nL 3366 3988 \nQ 3128 4100 2886 4159 \nQ 2644 4219 2406 4219 \nQ 1781 4219 1451 3797 \nQ 1122 3375 1075 2522 \nQ 1259 2794 1537 2939 \nQ 1816 3084 2150 3084 \nQ 2853 3084 3261 2657 \nQ 3669 2231 3669 1497 \nQ 3669 778 3244 343 \nQ 2819 -91 2113 -91 \nQ 1303 -91 875 529 \nQ 447 1150 447 2328 \nQ 447 3434 972 4092 \nQ 1497 4750 2381 4750 \nQ 2619 4750 2861 4703 \nQ 3103 4656 3366 4563 \nz\n\" transform=\"scale(0.015625)\"/>\n       </defs>\n       <use xlink:href=\"#DejaVuSans-30\"/>\n       <use xlink:href=\"#DejaVuSans-2e\" x=\"63.623047\"/>\n       <use xlink:href=\"#DejaVuSans-36\" x=\"95.410156\"/>\n      </g>\n     </g>\n    </g>\n    <g id=\"text_14\">\n     <!-- loss -->\n     <g transform=\"translate(14.798438 167.875938)rotate(-90)scale(0.1 -0.1)\">\n      <defs>\n       <path id=\"DejaVuSans-6c\" d=\"M 603 4863 \nL 1178 4863 \nL 1178 0 \nL 603 0 \nL 603 4863 \nz\n\" transform=\"scale(0.015625)\"/>\n       <path id=\"DejaVuSans-73\" d=\"M 2834 3397 \nL 2834 2853 \nQ 2591 2978 2328 3040 \nQ 2066 3103 1784 3103 \nQ 1356 3103 1142 2972 \nQ 928 2841 928 2578 \nQ 928 2378 1081 2264 \nQ 1234 2150 1697 2047 \nL 1894 2003 \nQ 2506 1872 2764 1633 \nQ 3022 1394 3022 966 \nQ 3022 478 2636 193 \nQ 2250 -91 1575 -91 \nQ 1294 -91 989 -36 \nQ 684 19 347 128 \nL 347 722 \nQ 666 556 975 473 \nQ 1284 391 1588 391 \nQ 1994 391 2212 530 \nQ 2431 669 2431 922 \nQ 2431 1156 2273 1281 \nQ 2116 1406 1581 1522 \nL 1381 1569 \nQ 847 1681 609 1914 \nQ 372 2147 372 2553 \nQ 372 3047 722 3315 \nQ 1072 3584 1716 3584 \nQ 2034 3584 2315 3537 \nQ 2597 3491 2834 3397 \nz\n\" transform=\"scale(0.015625)\"/>\n      </defs>\n      <use xlink:href=\"#DejaVuSans-6c\"/>\n      <use xlink:href=\"#DejaVuSans-6f\" x=\"27.783203\"/>\n      <use xlink:href=\"#DejaVuSans-73\" x=\"88.964844\"/>\n      <use xlink:href=\"#DejaVuSans-73\" x=\"141.064453\"/>\n     </g>\n    </g>\n   </g>\n   <g id=\"line2d_13\">\n    <path d=\"M 55.310176 34.67267 \nL 63.850121 94.464692 \nL 72.390065 121.982984 \nL 80.93001 135.463591 \nL 89.469955 147.100631 \nL 98.0099 164.315592 \nL 106.549845 183.502401 \nL 115.08979 181.348942 \nL 123.629735 205.618629 \nL 132.16968 207.234143 \nL 140.709625 216.692959 \nL 149.24957 235.511045 \nL 157.789514 235.981835 \nL 166.329459 240.170442 \nL 174.869404 259.430918 \nL 183.409349 250.807218 \nL 191.949294 256.780311 \nL 200.489239 255.725757 \nL 209.029184 262.087422 \nL 217.569129 259.415054 \nL 226.109074 267.273341 \nL 234.649019 264.080939 \nL 243.188963 270.02342 \nL 251.728908 268.603937 \nL 260.268853 278.139201 \nL 268.808798 277.309082 \nL 277.348743 266.65042 \nL 285.888688 281.76358 \n\" clip-path=\"url(#p2c52267f9a)\" style=\"fill: none; stroke: #1f77b4; stroke-width: 1.5; stroke-linecap: square\"/>\n   </g>\n   <g id=\"line2d_14\">\n    <path d=\"M 55.310176 105.7684 \nL 63.850121 148.7361 \nL 72.390065 142.472914 \nL 80.93001 168.717169 \nL 89.469955 148.21964 \nL 98.0099 197.947631 \nL 106.549845 190.351871 \nL 115.08979 221.843367 \nL 123.629735 233.140939 \nL 132.16968 220.218716 \nL 140.709625 246.287425 \nL 149.24957 245.758296 \nL 157.789514 248.117909 \nL 166.329459 245.857425 \nL 174.869404 262.000003 \nL 183.409349 266.752173 \nL 191.949294 267.418054 \nL 200.489239 262.135377 \nL 209.029184 172.277074 \nL 217.569129 263.565724 \nL 226.109074 240.695745 \nL 234.649019 266.29628 \nL 243.188963 263.35522 \nL 251.728908 263.689238 \nL 260.268853 265.00453 \nL 268.808798 249.413124 \nL 277.348743 260.930407 \nL 285.888688 256.084325 \n\" clip-path=\"url(#p2c52267f9a)\" style=\"fill: none; stroke: #ff0000; stroke-width: 1.5; stroke-linecap: square\"/>\n   </g>\n   <g id=\"patch_3\">\n    <path d=\"M 43.78125 294.118125 \nL 43.78125 22.318125 \n\" style=\"fill: none; stroke: #000000; stroke-width: 0.8; stroke-linejoin: miter; stroke-linecap: square\"/>\n   </g>\n   <g id=\"patch_4\">\n    <path d=\"M 297.417614 294.118125 \nL 297.417614 22.318125 \n\" style=\"fill: none; stroke: #000000; stroke-width: 0.8; stroke-linejoin: miter; stroke-linecap: square\"/>\n   </g>\n   <g id=\"patch_5\">\n    <path d=\"M 43.78125 294.118125 \nL 297.417614 294.118125 \n\" style=\"fill: none; stroke: #000000; stroke-width: 0.8; stroke-linejoin: miter; stroke-linecap: square\"/>\n   </g>\n   <g id=\"patch_6\">\n    <path d=\"M 43.78125 22.318125 \nL 297.417614 22.318125 \n\" style=\"fill: none; stroke: #000000; stroke-width: 0.8; stroke-linejoin: miter; stroke-linecap: square\"/>\n   </g>\n   <g id=\"text_15\">\n    <!-- Loss curve -->\n    <g transform=\"translate(138.720682 16.318125)scale(0.12 -0.12)\">\n     <defs>\n      <path id=\"DejaVuSans-4c\" d=\"M 628 4666 \nL 1259 4666 \nL 1259 531 \nL 3531 531 \nL 3531 0 \nL 628 0 \nL 628 4666 \nz\n\" transform=\"scale(0.015625)\"/>\n      <path id=\"DejaVuSans-20\" transform=\"scale(0.015625)\"/>\n      <path id=\"DejaVuSans-75\" d=\"M 544 1381 \nL 544 3500 \nL 1119 3500 \nL 1119 1403 \nQ 1119 906 1312 657 \nQ 1506 409 1894 409 \nQ 2359 409 2629 706 \nQ 2900 1003 2900 1516 \nL 2900 3500 \nL 3475 3500 \nL 3475 0 \nL 2900 0 \nL 2900 538 \nQ 2691 219 2414 64 \nQ 2138 -91 1772 -91 \nQ 1169 -91 856 284 \nQ 544 659 544 1381 \nz\nM 1991 3584 \nL 1991 3584 \nz\n\" transform=\"scale(0.015625)\"/>\n      <path id=\"DejaVuSans-72\" d=\"M 2631 2963 \nQ 2534 3019 2420 3045 \nQ 2306 3072 2169 3072 \nQ 1681 3072 1420 2755 \nQ 1159 2438 1159 1844 \nL 1159 0 \nL 581 0 \nL 581 3500 \nL 1159 3500 \nL 1159 2956 \nQ 1341 3275 1631 3429 \nQ 1922 3584 2338 3584 \nQ 2397 3584 2469 3576 \nQ 2541 3569 2628 3553 \nL 2631 2963 \nz\n\" transform=\"scale(0.015625)\"/>\n      <path id=\"DejaVuSans-76\" d=\"M 191 3500 \nL 800 3500 \nL 1894 563 \nL 2988 3500 \nL 3597 3500 \nL 2284 0 \nL 1503 0 \nL 191 3500 \nz\n\" transform=\"scale(0.015625)\"/>\n      <path id=\"DejaVuSans-65\" d=\"M 3597 1894 \nL 3597 1613 \nL 953 1613 \nQ 991 1019 1311 708 \nQ 1631 397 2203 397 \nQ 2534 397 2845 478 \nQ 3156 559 3463 722 \nL 3463 178 \nQ 3153 47 2828 -22 \nQ 2503 -91 2169 -91 \nQ 1331 -91 842 396 \nQ 353 884 353 1716 \nQ 353 2575 817 3079 \nQ 1281 3584 2069 3584 \nQ 2775 3584 3186 3129 \nQ 3597 2675 3597 1894 \nz\nM 3022 2063 \nQ 3016 2534 2758 2815 \nQ 2500 3097 2075 3097 \nQ 1594 3097 1305 2825 \nQ 1016 2553 972 2059 \nL 3022 2063 \nz\n\" transform=\"scale(0.015625)\"/>\n     </defs>\n     <use xlink:href=\"#DejaVuSans-4c\"/>\n     <use xlink:href=\"#DejaVuSans-6f\" x=\"53.962891\"/>\n     <use xlink:href=\"#DejaVuSans-73\" x=\"115.144531\"/>\n     <use xlink:href=\"#DejaVuSans-73\" x=\"167.244141\"/>\n     <use xlink:href=\"#DejaVuSans-20\" x=\"219.34375\"/>\n     <use xlink:href=\"#DejaVuSans-63\" x=\"251.130859\"/>\n     <use xlink:href=\"#DejaVuSans-75\" x=\"306.111328\"/>\n     <use xlink:href=\"#DejaVuSans-72\" x=\"369.490234\"/>\n     <use xlink:href=\"#DejaVuSans-76\" x=\"410.603516\"/>\n     <use xlink:href=\"#DejaVuSans-65\" x=\"469.783203\"/>\n    </g>\n   </g>\n   <g id=\"legend_1\">\n    <g id=\"patch_7\">\n     <path d=\"M 209.183239 59.674375 \nL 290.417614 59.674375 \nQ 292.417614 59.674375 292.417614 57.674375 \nL 292.417614 29.318125 \nQ 292.417614 27.318125 290.417614 27.318125 \nL 209.183239 27.318125 \nQ 207.183239 27.318125 207.183239 29.318125 \nL 207.183239 57.674375 \nQ 207.183239 59.674375 209.183239 59.674375 \nz\n\" style=\"fill: #ffffff; opacity: 0.8; stroke: #cccccc; stroke-linejoin: miter\"/>\n    </g>\n    <g id=\"line2d_15\">\n     <path d=\"M 211.183239 35.416562 \nL 221.183239 35.416562 \nL 231.183239 35.416562 \n\" style=\"fill: none; stroke: #1f77b4; stroke-width: 1.5; stroke-linecap: square\"/>\n    </g>\n    <g id=\"text_16\">\n     <!-- train -->\n     <g transform=\"translate(239.183239 38.916562)scale(0.1 -0.1)\">\n      <defs>\n       <path id=\"DejaVuSans-74\" d=\"M 1172 4494 \nL 1172 3500 \nL 2356 3500 \nL 2356 3053 \nL 1172 3053 \nL 1172 1153 \nQ 1172 725 1289 603 \nQ 1406 481 1766 481 \nL 2356 481 \nL 2356 0 \nL 1766 0 \nQ 1100 0 847 248 \nQ 594 497 594 1153 \nL 594 3053 \nL 172 3053 \nL 172 3500 \nL 594 3500 \nL 594 4494 \nL 1172 4494 \nz\n\" transform=\"scale(0.015625)\"/>\n       <path id=\"DejaVuSans-61\" d=\"M 2194 1759 \nQ 1497 1759 1228 1600 \nQ 959 1441 959 1056 \nQ 959 750 1161 570 \nQ 1363 391 1709 391 \nQ 2188 391 2477 730 \nQ 2766 1069 2766 1631 \nL 2766 1759 \nL 2194 1759 \nz\nM 3341 1997 \nL 3341 0 \nL 2766 0 \nL 2766 531 \nQ 2569 213 2275 61 \nQ 1981 -91 1556 -91 \nQ 1019 -91 701 211 \nQ 384 513 384 1019 \nQ 384 1609 779 1909 \nQ 1175 2209 1959 2209 \nL 2766 2209 \nL 2766 2266 \nQ 2766 2663 2505 2880 \nQ 2244 3097 1772 3097 \nQ 1472 3097 1187 3025 \nQ 903 2953 641 2809 \nL 641 3341 \nQ 956 3463 1253 3523 \nQ 1550 3584 1831 3584 \nQ 2591 3584 2966 3190 \nQ 3341 2797 3341 1997 \nz\n\" transform=\"scale(0.015625)\"/>\n       <path id=\"DejaVuSans-69\" d=\"M 603 3500 \nL 1178 3500 \nL 1178 0 \nL 603 0 \nL 603 3500 \nz\nM 603 4863 \nL 1178 4863 \nL 1178 4134 \nL 603 4134 \nL 603 4863 \nz\n\" transform=\"scale(0.015625)\"/>\n       <path id=\"DejaVuSans-6e\" d=\"M 3513 2113 \nL 3513 0 \nL 2938 0 \nL 2938 2094 \nQ 2938 2591 2744 2837 \nQ 2550 3084 2163 3084 \nQ 1697 3084 1428 2787 \nQ 1159 2491 1159 1978 \nL 1159 0 \nL 581 0 \nL 581 3500 \nL 1159 3500 \nL 1159 2956 \nQ 1366 3272 1645 3428 \nQ 1925 3584 2291 3584 \nQ 2894 3584 3203 3211 \nQ 3513 2838 3513 2113 \nz\n\" transform=\"scale(0.015625)\"/>\n      </defs>\n      <use xlink:href=\"#DejaVuSans-74\"/>\n      <use xlink:href=\"#DejaVuSans-72\" x=\"39.208984\"/>\n      <use xlink:href=\"#DejaVuSans-61\" x=\"80.322266\"/>\n      <use xlink:href=\"#DejaVuSans-69\" x=\"141.601562\"/>\n      <use xlink:href=\"#DejaVuSans-6e\" x=\"169.384766\"/>\n     </g>\n    </g>\n    <g id=\"line2d_16\">\n     <path d=\"M 211.183239 50.094688 \nL 221.183239 50.094688 \nL 231.183239 50.094688 \n\" style=\"fill: none; stroke: #ff0000; stroke-width: 1.5; stroke-linecap: square\"/>\n    </g>\n    <g id=\"text_17\">\n     <!-- validation -->\n     <g transform=\"translate(239.183239 53.594688)scale(0.1 -0.1)\">\n      <defs>\n       <path id=\"DejaVuSans-64\" d=\"M 2906 2969 \nL 2906 4863 \nL 3481 4863 \nL 3481 0 \nL 2906 0 \nL 2906 525 \nQ 2725 213 2448 61 \nQ 2172 -91 1784 -91 \nQ 1150 -91 751 415 \nQ 353 922 353 1747 \nQ 353 2572 751 3078 \nQ 1150 3584 1784 3584 \nQ 2172 3584 2448 3432 \nQ 2725 3281 2906 2969 \nz\nM 947 1747 \nQ 947 1113 1208 752 \nQ 1469 391 1925 391 \nQ 2381 391 2643 752 \nQ 2906 1113 2906 1747 \nQ 2906 2381 2643 2742 \nQ 2381 3103 1925 3103 \nQ 1469 3103 1208 2742 \nQ 947 2381 947 1747 \nz\n\" transform=\"scale(0.015625)\"/>\n      </defs>\n      <use xlink:href=\"#DejaVuSans-76\"/>\n      <use xlink:href=\"#DejaVuSans-61\" x=\"59.179688\"/>\n      <use xlink:href=\"#DejaVuSans-6c\" x=\"120.458984\"/>\n      <use xlink:href=\"#DejaVuSans-69\" x=\"148.242188\"/>\n      <use xlink:href=\"#DejaVuSans-64\" x=\"176.025391\"/>\n      <use xlink:href=\"#DejaVuSans-61\" x=\"239.501953\"/>\n      <use xlink:href=\"#DejaVuSans-74\" x=\"300.78125\"/>\n      <use xlink:href=\"#DejaVuSans-69\" x=\"339.990234\"/>\n      <use xlink:href=\"#DejaVuSans-6f\" x=\"367.773438\"/>\n      <use xlink:href=\"#DejaVuSans-6e\" x=\"428.955078\"/>\n     </g>\n    </g>\n   </g>\n  </g>\n  <g id=\"axes_2\">\n   <g id=\"patch_8\">\n    <path d=\"M 348.144886 294.118125 \nL 601.78125 294.118125 \nL 601.78125 22.318125 \nL 348.144886 22.318125 \nz\n\" style=\"fill: #ffffff\"/>\n   </g>\n   <g id=\"matplotlib.axis_3\">\n    <g id=\"xtick_7\">\n     <g id=\"line2d_17\">\n      <g>\n       <use xlink:href=\"#mf60192a5c4\" x=\"359.673812\" y=\"294.118125\" style=\"stroke: #000000; stroke-width: 0.8\"/>\n      </g>\n     </g>\n     <g id=\"text_18\">\n      <!-- 0 -->\n      <g transform=\"translate(356.492562 308.716563)scale(0.1 -0.1)\">\n       <use xlink:href=\"#DejaVuSans-30\"/>\n      </g>\n     </g>\n    </g>\n    <g id=\"xtick_8\">\n     <g id=\"line2d_18\">\n      <g>\n       <use xlink:href=\"#mf60192a5c4\" x=\"402.373537\" y=\"294.118125\" style=\"stroke: #000000; stroke-width: 0.8\"/>\n      </g>\n     </g>\n     <g id=\"text_19\">\n      <!-- 5 -->\n      <g transform=\"translate(399.192287 308.716563)scale(0.1 -0.1)\">\n       <use xlink:href=\"#DejaVuSans-35\"/>\n      </g>\n     </g>\n    </g>\n    <g id=\"xtick_9\">\n     <g id=\"line2d_19\">\n      <g>\n       <use xlink:href=\"#mf60192a5c4\" x=\"445.073261\" y=\"294.118125\" style=\"stroke: #000000; stroke-width: 0.8\"/>\n      </g>\n     </g>\n     <g id=\"text_20\">\n      <!-- 10 -->\n      <g transform=\"translate(438.710761 308.716563)scale(0.1 -0.1)\">\n       <use xlink:href=\"#DejaVuSans-31\"/>\n       <use xlink:href=\"#DejaVuSans-30\" x=\"63.623047\"/>\n      </g>\n     </g>\n    </g>\n    <g id=\"xtick_10\">\n     <g id=\"line2d_20\">\n      <g>\n       <use xlink:href=\"#mf60192a5c4\" x=\"487.772986\" y=\"294.118125\" style=\"stroke: #000000; stroke-width: 0.8\"/>\n      </g>\n     </g>\n     <g id=\"text_21\">\n      <!-- 15 -->\n      <g transform=\"translate(481.410486 308.716563)scale(0.1 -0.1)\">\n       <use xlink:href=\"#DejaVuSans-31\"/>\n       <use xlink:href=\"#DejaVuSans-35\" x=\"63.623047\"/>\n      </g>\n     </g>\n    </g>\n    <g id=\"xtick_11\">\n     <g id=\"line2d_21\">\n      <g>\n       <use xlink:href=\"#mf60192a5c4\" x=\"530.47271\" y=\"294.118125\" style=\"stroke: #000000; stroke-width: 0.8\"/>\n      </g>\n     </g>\n     <g id=\"text_22\">\n      <!-- 20 -->\n      <g transform=\"translate(524.11021 308.716563)scale(0.1 -0.1)\">\n       <use xlink:href=\"#DejaVuSans-32\"/>\n       <use xlink:href=\"#DejaVuSans-30\" x=\"63.623047\"/>\n      </g>\n     </g>\n    </g>\n    <g id=\"xtick_12\">\n     <g id=\"line2d_22\">\n      <g>\n       <use xlink:href=\"#mf60192a5c4\" x=\"573.172435\" y=\"294.118125\" style=\"stroke: #000000; stroke-width: 0.8\"/>\n      </g>\n     </g>\n     <g id=\"text_23\">\n      <!-- 25 -->\n      <g transform=\"translate(566.809935 308.716563)scale(0.1 -0.1)\">\n       <use xlink:href=\"#DejaVuSans-32\"/>\n       <use xlink:href=\"#DejaVuSans-35\" x=\"63.623047\"/>\n      </g>\n     </g>\n    </g>\n    <g id=\"text_24\">\n     <!-- Epoch -->\n     <g transform=\"translate(459.652131 322.394687)scale(0.1 -0.1)\">\n      <use xlink:href=\"#DejaVuSans-45\"/>\n      <use xlink:href=\"#DejaVuSans-70\" x=\"63.183594\"/>\n      <use xlink:href=\"#DejaVuSans-6f\" x=\"126.660156\"/>\n      <use xlink:href=\"#DejaVuSans-63\" x=\"187.841797\"/>\n      <use xlink:href=\"#DejaVuSans-68\" x=\"242.822266\"/>\n     </g>\n    </g>\n   </g>\n   <g id=\"matplotlib.axis_4\">\n    <g id=\"ytick_7\">\n     <g id=\"line2d_23\">\n      <g>\n       <use xlink:href=\"#m42921b72ac\" x=\"348.144886\" y=\"279.872346\" style=\"stroke: #000000; stroke-width: 0.8\"/>\n      </g>\n     </g>\n     <g id=\"text_25\">\n      <!-- 0.70 -->\n      <g transform=\"translate(318.879261 283.671564)scale(0.1 -0.1)\">\n       <defs>\n        <path id=\"DejaVuSans-37\" d=\"M 525 4666 \nL 3525 4666 \nL 3525 4397 \nL 1831 0 \nL 1172 0 \nL 2766 4134 \nL 525 4134 \nL 525 4666 \nz\n\" transform=\"scale(0.015625)\"/>\n       </defs>\n       <use xlink:href=\"#DejaVuSans-30\"/>\n       <use xlink:href=\"#DejaVuSans-2e\" x=\"63.623047\"/>\n       <use xlink:href=\"#DejaVuSans-37\" x=\"95.410156\"/>\n       <use xlink:href=\"#DejaVuSans-30\" x=\"159.033203\"/>\n      </g>\n     </g>\n    </g>\n    <g id=\"ytick_8\">\n     <g id=\"line2d_24\">\n      <g>\n       <use xlink:href=\"#m42921b72ac\" x=\"348.144886\" y=\"237.361198\" style=\"stroke: #000000; stroke-width: 0.8\"/>\n      </g>\n     </g>\n     <g id=\"text_26\">\n      <!-- 0.75 -->\n      <g transform=\"translate(318.879261 241.160416)scale(0.1 -0.1)\">\n       <use xlink:href=\"#DejaVuSans-30\"/>\n       <use xlink:href=\"#DejaVuSans-2e\" x=\"63.623047\"/>\n       <use xlink:href=\"#DejaVuSans-37\" x=\"95.410156\"/>\n       <use xlink:href=\"#DejaVuSans-35\" x=\"159.033203\"/>\n      </g>\n     </g>\n    </g>\n    <g id=\"ytick_9\">\n     <g id=\"line2d_25\">\n      <g>\n       <use xlink:href=\"#m42921b72ac\" x=\"348.144886\" y=\"194.85005\" style=\"stroke: #000000; stroke-width: 0.8\"/>\n      </g>\n     </g>\n     <g id=\"text_27\">\n      <!-- 0.80 -->\n      <g transform=\"translate(318.879261 198.649268)scale(0.1 -0.1)\">\n       <defs>\n        <path id=\"DejaVuSans-38\" d=\"M 2034 2216 \nQ 1584 2216 1326 1975 \nQ 1069 1734 1069 1313 \nQ 1069 891 1326 650 \nQ 1584 409 2034 409 \nQ 2484 409 2743 651 \nQ 3003 894 3003 1313 \nQ 3003 1734 2745 1975 \nQ 2488 2216 2034 2216 \nz\nM 1403 2484 \nQ 997 2584 770 2862 \nQ 544 3141 544 3541 \nQ 544 4100 942 4425 \nQ 1341 4750 2034 4750 \nQ 2731 4750 3128 4425 \nQ 3525 4100 3525 3541 \nQ 3525 3141 3298 2862 \nQ 3072 2584 2669 2484 \nQ 3125 2378 3379 2068 \nQ 3634 1759 3634 1313 \nQ 3634 634 3220 271 \nQ 2806 -91 2034 -91 \nQ 1263 -91 848 271 \nQ 434 634 434 1313 \nQ 434 1759 690 2068 \nQ 947 2378 1403 2484 \nz\nM 1172 3481 \nQ 1172 3119 1398 2916 \nQ 1625 2713 2034 2713 \nQ 2441 2713 2670 2916 \nQ 2900 3119 2900 3481 \nQ 2900 3844 2670 4047 \nQ 2441 4250 2034 4250 \nQ 1625 4250 1398 4047 \nQ 1172 3844 1172 3481 \nz\n\" transform=\"scale(0.015625)\"/>\n       </defs>\n       <use xlink:href=\"#DejaVuSans-30\"/>\n       <use xlink:href=\"#DejaVuSans-2e\" x=\"63.623047\"/>\n       <use xlink:href=\"#DejaVuSans-38\" x=\"95.410156\"/>\n       <use xlink:href=\"#DejaVuSans-30\" x=\"159.033203\"/>\n      </g>\n     </g>\n    </g>\n    <g id=\"ytick_10\">\n     <g id=\"line2d_26\">\n      <g>\n       <use xlink:href=\"#m42921b72ac\" x=\"348.144886\" y=\"152.338902\" style=\"stroke: #000000; stroke-width: 0.8\"/>\n      </g>\n     </g>\n     <g id=\"text_28\">\n      <!-- 0.85 -->\n      <g transform=\"translate(318.879261 156.13812)scale(0.1 -0.1)\">\n       <use xlink:href=\"#DejaVuSans-30\"/>\n       <use xlink:href=\"#DejaVuSans-2e\" x=\"63.623047\"/>\n       <use xlink:href=\"#DejaVuSans-38\" x=\"95.410156\"/>\n       <use xlink:href=\"#DejaVuSans-35\" x=\"159.033203\"/>\n      </g>\n     </g>\n    </g>\n    <g id=\"ytick_11\">\n     <g id=\"line2d_27\">\n      <g>\n       <use xlink:href=\"#m42921b72ac\" x=\"348.144886\" y=\"109.827754\" style=\"stroke: #000000; stroke-width: 0.8\"/>\n      </g>\n     </g>\n     <g id=\"text_29\">\n      <!-- 0.90 -->\n      <g transform=\"translate(318.879261 113.626972)scale(0.1 -0.1)\">\n       <defs>\n        <path id=\"DejaVuSans-39\" d=\"M 703 97 \nL 703 672 \nQ 941 559 1184 500 \nQ 1428 441 1663 441 \nQ 2288 441 2617 861 \nQ 2947 1281 2994 2138 \nQ 2813 1869 2534 1725 \nQ 2256 1581 1919 1581 \nQ 1219 1581 811 2004 \nQ 403 2428 403 3163 \nQ 403 3881 828 4315 \nQ 1253 4750 1959 4750 \nQ 2769 4750 3195 4129 \nQ 3622 3509 3622 2328 \nQ 3622 1225 3098 567 \nQ 2575 -91 1691 -91 \nQ 1453 -91 1209 -44 \nQ 966 3 703 97 \nz\nM 1959 2075 \nQ 2384 2075 2632 2365 \nQ 2881 2656 2881 3163 \nQ 2881 3666 2632 3958 \nQ 2384 4250 1959 4250 \nQ 1534 4250 1286 3958 \nQ 1038 3666 1038 3163 \nQ 1038 2656 1286 2365 \nQ 1534 2075 1959 2075 \nz\n\" transform=\"scale(0.015625)\"/>\n       </defs>\n       <use xlink:href=\"#DejaVuSans-30\"/>\n       <use xlink:href=\"#DejaVuSans-2e\" x=\"63.623047\"/>\n       <use xlink:href=\"#DejaVuSans-39\" x=\"95.410156\"/>\n       <use xlink:href=\"#DejaVuSans-30\" x=\"159.033203\"/>\n      </g>\n     </g>\n    </g>\n    <g id=\"ytick_12\">\n     <g id=\"line2d_28\">\n      <g>\n       <use xlink:href=\"#m42921b72ac\" x=\"348.144886\" y=\"67.316606\" style=\"stroke: #000000; stroke-width: 0.8\"/>\n      </g>\n     </g>\n     <g id=\"text_30\">\n      <!-- 0.95 -->\n      <g transform=\"translate(318.879261 71.115824)scale(0.1 -0.1)\">\n       <use xlink:href=\"#DejaVuSans-30\"/>\n       <use xlink:href=\"#DejaVuSans-2e\" x=\"63.623047\"/>\n       <use xlink:href=\"#DejaVuSans-39\" x=\"95.410156\"/>\n       <use xlink:href=\"#DejaVuSans-35\" x=\"159.033203\"/>\n      </g>\n     </g>\n    </g>\n    <g id=\"ytick_13\">\n     <g id=\"line2d_29\">\n      <g>\n       <use xlink:href=\"#m42921b72ac\" x=\"348.144886\" y=\"24.805458\" style=\"stroke: #000000; stroke-width: 0.8\"/>\n      </g>\n     </g>\n     <g id=\"text_31\">\n      <!-- 1.00 -->\n      <g transform=\"translate(318.879261 28.604676)scale(0.1 -0.1)\">\n       <use xlink:href=\"#DejaVuSans-31\"/>\n       <use xlink:href=\"#DejaVuSans-2e\" x=\"63.623047\"/>\n       <use xlink:href=\"#DejaVuSans-30\" x=\"95.410156\"/>\n       <use xlink:href=\"#DejaVuSans-30\" x=\"159.033203\"/>\n      </g>\n     </g>\n    </g>\n    <g id=\"text_32\">\n     <!-- accuracy -->\n     <g transform=\"translate(312.799574 180.7775)rotate(-90)scale(0.1 -0.1)\">\n      <defs>\n       <path id=\"DejaVuSans-79\" d=\"M 2059 -325 \nQ 1816 -950 1584 -1140 \nQ 1353 -1331 966 -1331 \nL 506 -1331 \nL 506 -850 \nL 844 -850 \nQ 1081 -850 1212 -737 \nQ 1344 -625 1503 -206 \nL 1606 56 \nL 191 3500 \nL 800 3500 \nL 1894 763 \nL 2988 3500 \nL 3597 3500 \nL 2059 -325 \nz\n\" transform=\"scale(0.015625)\"/>\n      </defs>\n      <use xlink:href=\"#DejaVuSans-61\"/>\n      <use xlink:href=\"#DejaVuSans-63\" x=\"61.279297\"/>\n      <use xlink:href=\"#DejaVuSans-63\" x=\"116.259766\"/>\n      <use xlink:href=\"#DejaVuSans-75\" x=\"171.240234\"/>\n      <use xlink:href=\"#DejaVuSans-72\" x=\"234.619141\"/>\n      <use xlink:href=\"#DejaVuSans-61\" x=\"275.732422\"/>\n      <use xlink:href=\"#DejaVuSans-63\" x=\"337.011719\"/>\n      <use xlink:href=\"#DejaVuSans-79\" x=\"391.992188\"/>\n     </g>\n    </g>\n   </g>\n   <g id=\"line2d_30\">\n    <path d=\"M 359.673812 281.76358 \nL 368.213757 188.847523 \nL 376.753702 163.768423 \nL 385.293647 155.956881 \nL 393.833592 146.089668 \nL 402.373537 126.355293 \nL 410.913481 103.743009 \nL 419.453426 109.498828 \nL 427.993371 87.708781 \nL 436.533316 92.642413 \nL 445.073261 85.242016 \nL 453.613206 69.20784 \nL 462.153151 65.507641 \nL 470.693096 63.45197 \nL 479.233041 47.828887 \nL 487.772986 55.640428 \nL 496.31293 49.884558 \nL 504.852875 49.884558 \nL 513.39282 49.473414 \nL 521.932765 49.884558 \nL 530.47271 42.484161 \nL 539.012655 45.362122 \nL 547.5526 45.362122 \nL 556.092545 44.539833 \nL 564.63249 36.317197 \nL 573.172435 39.195107 \nL 581.712379 45.362122 \nL 590.252324 34.67267 \n\" clip-path=\"url(#p6a036559e8)\" style=\"fill: none; stroke: #1f77b4; stroke-width: 1.5; stroke-linecap: square\"/>\n   </g>\n   <g id=\"line2d_31\">\n    <path d=\"M 359.673812 159.550607 \nL 368.213757 146.265873 \nL 376.753702 148.163685 \nL 385.293647 125.389892 \nL 393.833592 140.572438 \nL 402.373537 110.207296 \nL 410.913481 96.922562 \nL 419.453426 79.842204 \nL 427.993371 83.637828 \nL 436.533316 76.046581 \nL 445.073261 60.864035 \nL 453.613206 60.864035 \nL 462.153151 55.170549 \nL 470.693096 58.966223 \nL 479.233041 49.477113 \nL 487.772986 45.681489 \nL 496.31293 49.477113 \nL 504.852875 45.681489 \nL 513.39282 96.922562 \nL 521.932765 38.090191 \nL 530.47271 62.761847 \nL 539.012655 41.885815 \nL 547.5526 41.885815 \nL 556.092545 43.783627 \nL 564.63249 41.885815 \nL 573.172435 45.681489 \nL 581.712379 43.783627 \nL 590.252324 43.783627 \n\" clip-path=\"url(#p6a036559e8)\" style=\"fill: none; stroke: #ff7f0e; stroke-width: 1.5; stroke-linecap: square\"/>\n   </g>\n   <g id=\"patch_9\">\n    <path d=\"M 348.144886 294.118125 \nL 348.144886 22.318125 \n\" style=\"fill: none; stroke: #000000; stroke-width: 0.8; stroke-linejoin: miter; stroke-linecap: square\"/>\n   </g>\n   <g id=\"patch_10\">\n    <path d=\"M 601.78125 294.118125 \nL 601.78125 22.318125 \n\" style=\"fill: none; stroke: #000000; stroke-width: 0.8; stroke-linejoin: miter; stroke-linecap: square\"/>\n   </g>\n   <g id=\"patch_11\">\n    <path d=\"M 348.144886 294.118125 \nL 601.78125 294.118125 \n\" style=\"fill: none; stroke: #000000; stroke-width: 0.8; stroke-linejoin: miter; stroke-linecap: square\"/>\n   </g>\n   <g id=\"patch_12\">\n    <path d=\"M 348.144886 22.318125 \nL 601.78125 22.318125 \n\" style=\"fill: none; stroke: #000000; stroke-width: 0.8; stroke-linejoin: miter; stroke-linecap: square\"/>\n   </g>\n   <g id=\"text_33\">\n    <!-- Accuracy -->\n    <g transform=\"translate(447.569318 16.318125)scale(0.12 -0.12)\">\n     <defs>\n      <path id=\"DejaVuSans-41\" d=\"M 2188 4044 \nL 1331 1722 \nL 3047 1722 \nL 2188 4044 \nz\nM 1831 4666 \nL 2547 4666 \nL 4325 0 \nL 3669 0 \nL 3244 1197 \nL 1141 1197 \nL 716 0 \nL 50 0 \nL 1831 4666 \nz\n\" transform=\"scale(0.015625)\"/>\n     </defs>\n     <use xlink:href=\"#DejaVuSans-41\"/>\n     <use xlink:href=\"#DejaVuSans-63\" x=\"66.658203\"/>\n     <use xlink:href=\"#DejaVuSans-63\" x=\"121.638672\"/>\n     <use xlink:href=\"#DejaVuSans-75\" x=\"176.619141\"/>\n     <use xlink:href=\"#DejaVuSans-72\" x=\"239.998047\"/>\n     <use xlink:href=\"#DejaVuSans-61\" x=\"281.111328\"/>\n     <use xlink:href=\"#DejaVuSans-63\" x=\"342.390625\"/>\n     <use xlink:href=\"#DejaVuSans-79\" x=\"397.371094\"/>\n    </g>\n   </g>\n   <g id=\"legend_2\">\n    <g id=\"patch_13\">\n     <path d=\"M 355.144886 59.674375 \nL 436.379261 59.674375 \nQ 438.379261 59.674375 438.379261 57.674375 \nL 438.379261 29.318125 \nQ 438.379261 27.318125 436.379261 27.318125 \nL 355.144886 27.318125 \nQ 353.144886 27.318125 353.144886 29.318125 \nL 353.144886 57.674375 \nQ 353.144886 59.674375 355.144886 59.674375 \nz\n\" style=\"fill: #ffffff; opacity: 0.8; stroke: #cccccc; stroke-linejoin: miter\"/>\n    </g>\n    <g id=\"line2d_32\">\n     <path d=\"M 357.144886 35.416562 \nL 367.144886 35.416562 \nL 377.144886 35.416562 \n\" style=\"fill: none; stroke: #1f77b4; stroke-width: 1.5; stroke-linecap: square\"/>\n    </g>\n    <g id=\"text_34\">\n     <!-- train -->\n     <g transform=\"translate(385.144886 38.916562)scale(0.1 -0.1)\">\n      <use xlink:href=\"#DejaVuSans-74\"/>\n      <use xlink:href=\"#DejaVuSans-72\" x=\"39.208984\"/>\n      <use xlink:href=\"#DejaVuSans-61\" x=\"80.322266\"/>\n      <use xlink:href=\"#DejaVuSans-69\" x=\"141.601562\"/>\n      <use xlink:href=\"#DejaVuSans-6e\" x=\"169.384766\"/>\n     </g>\n    </g>\n    <g id=\"line2d_33\">\n     <path d=\"M 357.144886 50.094688 \nL 367.144886 50.094688 \nL 377.144886 50.094688 \n\" style=\"fill: none; stroke: #ff7f0e; stroke-width: 1.5; stroke-linecap: square\"/>\n    </g>\n    <g id=\"text_35\">\n     <!-- validation -->\n     <g transform=\"translate(385.144886 53.594688)scale(0.1 -0.1)\">\n      <use xlink:href=\"#DejaVuSans-76\"/>\n      <use xlink:href=\"#DejaVuSans-61\" x=\"59.179688\"/>\n      <use xlink:href=\"#DejaVuSans-6c\" x=\"120.458984\"/>\n      <use xlink:href=\"#DejaVuSans-69\" x=\"148.242188\"/>\n      <use xlink:href=\"#DejaVuSans-64\" x=\"176.025391\"/>\n      <use xlink:href=\"#DejaVuSans-61\" x=\"239.501953\"/>\n      <use xlink:href=\"#DejaVuSans-74\" x=\"300.78125\"/>\n      <use xlink:href=\"#DejaVuSans-69\" x=\"339.990234\"/>\n      <use xlink:href=\"#DejaVuSans-6f\" x=\"367.773438\"/>\n      <use xlink:href=\"#DejaVuSans-6e\" x=\"428.955078\"/>\n     </g>\n    </g>\n   </g>\n  </g>\n </g>\n <defs>\n  <clipPath id=\"p2c52267f9a\">\n   <rect x=\"43.78125\" y=\"22.318125\" width=\"253.636364\" height=\"271.8\"/>\n  </clipPath>\n  <clipPath id=\"p6a036559e8\">\n   <rect x=\"348.144886\" y=\"22.318125\" width=\"253.636364\" height=\"271.8\"/>\n  </clipPath>\n </defs>\n</svg>\n"
          },
          "metadata": {
            "needs_background": "light"
          }
        }
      ]
    },
    {
      "cell_type": "code",
      "source": [
        "h = hs.history\n",
        "h.keys()"
      ],
      "metadata": {
        "colab": {
          "base_uri": "https://localhost:8080/"
        },
        "id": "WH1QVxcD7vGh",
        "outputId": "8685704c-6826-4763-c657-34c1eab42088"
      },
      "execution_count": 31,
      "outputs": [
        {
          "output_type": "execute_result",
          "data": {
            "text/plain": [
              "dict_keys(['loss', 'accuracy', 'val_loss', 'val_accuracy'])"
            ]
          },
          "metadata": {},
          "execution_count": 31
        }
      ]
    },
    {
      "cell_type": "code",
      "source": [
        "# Model Accuracy \n",
        "from keras.models import load_model\n",
        "\n",
        "best_model = load_model(\"/content/bestmodel.h5\")\n"
      ],
      "metadata": {
        "id": "ebuUAURa7vpa"
      },
      "execution_count": 32,
      "outputs": []
    },
    {
      "cell_type": "markdown",
      "source": [
        "# Model Accuracy "
      ],
      "metadata": {
        "id": "jWRFOG-zZF1-"
      }
    },
    {
      "cell_type": "code",
      "source": [
        "acc  = model.evaluate_generator(test_data)[1]\n",
        "print(f\"the accuracy of the model is {round(acc*100,3)}%\")"
      ],
      "metadata": {
        "colab": {
          "base_uri": "https://localhost:8080/"
        },
        "id": "wgPVLVKCYOgG",
        "outputId": "3149258b-919b-4d91-98ad-da76b292c8f2"
      },
      "execution_count": 33,
      "outputs": [
        {
          "output_type": "stream",
          "name": "stdout",
          "text": [
            "the accuracy of the model is 98.222%\n"
          ]
        }
      ]
    },
    {
      "cell_type": "code",
      "source": [
        "train_data.class_indices"
      ],
      "metadata": {
        "colab": {
          "base_uri": "https://localhost:8080/"
        },
        "id": "oU7nxOgK7vuW",
        "outputId": "8de155e7-424b-4785-c9bb-16923154b50a"
      },
      "execution_count": 34,
      "outputs": [
        {
          "output_type": "execute_result",
          "data": {
            "text/plain": [
              "{'no': 0, 'yes': 1}"
            ]
          },
          "metadata": {},
          "execution_count": 34
        }
      ]
    },
    {
      "cell_type": "code",
      "source": [
        "from tensorflow.keras.utils import load_img, img_to_array\n"
      ],
      "metadata": {
        "id": "D-6Z7JYe7vx7"
      },
      "execution_count": 35,
      "outputs": []
    },
    {
      "cell_type": "code",
      "source": [
        "path = \"/content/pred/pred13.jpg\"\n",
        "\n",
        "img = load_img(path,target_size = (256,256))\n",
        "input_arr = img_to_array(img)/255\n",
        "\n",
        "plt.imshow(input_arr)\n",
        "plt.show\n",
        "\n",
        "input_arr = np.expand_dims(input_arr,axis = 0)\n",
        "predict_x = (best_model.predict(input_arr)[0][0] > 0.5).astype(\"int32\")\n",
        "\n",
        "if predict_x == 1:\n",
        "  print(\"The MRI is having Tumor\")\n",
        "else:\n",
        "  print(\"The MRI is not having a Tumor\")"
      ],
      "metadata": {
        "colab": {
          "base_uri": "https://localhost:8080/",
          "height": 392
        },
        "id": "oiD5HEiXdnwP",
        "outputId": "c857066c-b287-49bb-a846-e659d839c859"
      },
      "execution_count": 55,
      "outputs": [
        {
          "output_type": "stream",
          "name": "stdout",
          "text": [
            "1/1 [==============================] - 0s 60ms/step\n",
            "The MRI is having Tumor\n"
          ]
        },
        {
          "output_type": "display_data",
          "data": {
            "text/plain": [
              "<Figure size 432x288 with 1 Axes>"
            ],
            "image/svg+xml": "<?xml version=\"1.0\" encoding=\"utf-8\" standalone=\"no\"?>\n<!DOCTYPE svg PUBLIC \"-//W3C//DTD SVG 1.1//EN\"\n  \"http://www.w3.org/Graphics/SVG/1.1/DTD/svg11.dtd\">\n<svg xmlns:xlink=\"http://www.w3.org/1999/xlink\" width=\"262.799687pt\" height=\"251.892656pt\" viewBox=\"0 0 262.799687 251.892656\" xmlns=\"http://www.w3.org/2000/svg\" version=\"1.1\">\n <metadata>\n  <rdf:RDF xmlns:dc=\"http://purl.org/dc/elements/1.1/\" xmlns:cc=\"http://creativecommons.org/ns#\" xmlns:rdf=\"http://www.w3.org/1999/02/22-rdf-syntax-ns#\">\n   <cc:Work>\n    <dc:type rdf:resource=\"http://purl.org/dc/dcmitype/StillImage\"/>\n    <dc:date>2023-03-04T15:03:19.169819</dc:date>\n    <dc:format>image/svg+xml</dc:format>\n    <dc:creator>\n     <cc:Agent>\n      <dc:title>Matplotlib v3.5.3, https://matplotlib.org/</dc:title>\n     </cc:Agent>\n    </dc:creator>\n   </cc:Work>\n  </rdf:RDF>\n </metadata>\n <defs>\n  <style type=\"text/css\">*{stroke-linejoin: round; stroke-linecap: butt}</style>\n </defs>\n <g id=\"figure_1\">\n  <g id=\"patch_1\">\n   <path d=\"M 0 251.892656 \nL 262.799687 251.892656 \nL 262.799687 0 \nL 0 0 \nL 0 251.892656 \nz\n\" style=\"fill: none\"/>\n  </g>\n  <g id=\"axes_1\">\n   <g id=\"patch_2\">\n    <path d=\"M 33.2875 228.014531 \nL 250.7275 228.014531 \nL 250.7275 10.574531 \nL 33.2875 10.574531 \nz\n\" style=\"fill: #ffffff\"/>\n   </g>\n   <g clip-path=\"url(#p0165664184)\">\n    <image xlink:href=\"data:image/png;base64,\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\" id=\"imagea2cb16e23a\" transform=\"scale(1 -1)translate(0 -218)\" x=\"33.2875\" y=\"-10.014531\" width=\"218\" height=\"218\"/>\n   </g>\n   <g id=\"matplotlib.axis_1\">\n    <g id=\"xtick_1\">\n     <g id=\"line2d_1\">\n      <defs>\n       <path id=\"mf20860c8da\" d=\"M 0 0 \nL 0 3.5 \n\" style=\"stroke: #000000; stroke-width: 0.8\"/>\n      </defs>\n      <g>\n       <use xlink:href=\"#mf20860c8da\" x=\"33.712188\" y=\"228.014531\" style=\"stroke: #000000; stroke-width: 0.8\"/>\n      </g>\n     </g>\n     <g id=\"text_1\">\n      <!-- 0 -->\n      <g transform=\"translate(30.530938 242.612969)scale(0.1 -0.1)\">\n       <defs>\n        <path id=\"DejaVuSans-30\" d=\"M 2034 4250 \nQ 1547 4250 1301 3770 \nQ 1056 3291 1056 2328 \nQ 1056 1369 1301 889 \nQ 1547 409 2034 409 \nQ 2525 409 2770 889 \nQ 3016 1369 3016 2328 \nQ 3016 3291 2770 3770 \nQ 2525 4250 2034 4250 \nz\nM 2034 4750 \nQ 2819 4750 3233 4129 \nQ 3647 3509 3647 2328 \nQ 3647 1150 3233 529 \nQ 2819 -91 2034 -91 \nQ 1250 -91 836 529 \nQ 422 1150 422 2328 \nQ 422 3509 836 4129 \nQ 1250 4750 2034 4750 \nz\n\" transform=\"scale(0.015625)\"/>\n       </defs>\n       <use xlink:href=\"#DejaVuSans-30\"/>\n      </g>\n     </g>\n    </g>\n    <g id=\"xtick_2\">\n     <g id=\"line2d_2\">\n      <g>\n       <use xlink:href=\"#mf20860c8da\" x=\"76.180937\" y=\"228.014531\" style=\"stroke: #000000; stroke-width: 0.8\"/>\n      </g>\n     </g>\n     <g id=\"text_2\">\n      <!-- 50 -->\n      <g transform=\"translate(69.818438 242.612969)scale(0.1 -0.1)\">\n       <defs>\n        <path id=\"DejaVuSans-35\" d=\"M 691 4666 \nL 3169 4666 \nL 3169 4134 \nL 1269 4134 \nL 1269 2991 \nQ 1406 3038 1543 3061 \nQ 1681 3084 1819 3084 \nQ 2600 3084 3056 2656 \nQ 3513 2228 3513 1497 \nQ 3513 744 3044 326 \nQ 2575 -91 1722 -91 \nQ 1428 -91 1123 -41 \nQ 819 9 494 109 \nL 494 744 \nQ 775 591 1075 516 \nQ 1375 441 1709 441 \nQ 2250 441 2565 725 \nQ 2881 1009 2881 1497 \nQ 2881 1984 2565 2268 \nQ 2250 2553 1709 2553 \nQ 1456 2553 1204 2497 \nQ 953 2441 691 2322 \nL 691 4666 \nz\n\" transform=\"scale(0.015625)\"/>\n       </defs>\n       <use xlink:href=\"#DejaVuSans-35\"/>\n       <use xlink:href=\"#DejaVuSans-30\" x=\"63.623047\"/>\n      </g>\n     </g>\n    </g>\n    <g id=\"xtick_3\">\n     <g id=\"line2d_3\">\n      <g>\n       <use xlink:href=\"#mf20860c8da\" x=\"118.649687\" y=\"228.014531\" style=\"stroke: #000000; stroke-width: 0.8\"/>\n      </g>\n     </g>\n     <g id=\"text_3\">\n      <!-- 100 -->\n      <g transform=\"translate(109.105937 242.612969)scale(0.1 -0.1)\">\n       <defs>\n        <path id=\"DejaVuSans-31\" d=\"M 794 531 \nL 1825 531 \nL 1825 4091 \nL 703 3866 \nL 703 4441 \nL 1819 4666 \nL 2450 4666 \nL 2450 531 \nL 3481 531 \nL 3481 0 \nL 794 0 \nL 794 531 \nz\n\" transform=\"scale(0.015625)\"/>\n       </defs>\n       <use xlink:href=\"#DejaVuSans-31\"/>\n       <use xlink:href=\"#DejaVuSans-30\" x=\"63.623047\"/>\n       <use xlink:href=\"#DejaVuSans-30\" x=\"127.246094\"/>\n      </g>\n     </g>\n    </g>\n    <g id=\"xtick_4\">\n     <g id=\"line2d_4\">\n      <g>\n       <use xlink:href=\"#mf20860c8da\" x=\"161.118437\" y=\"228.014531\" style=\"stroke: #000000; stroke-width: 0.8\"/>\n      </g>\n     </g>\n     <g id=\"text_4\">\n      <!-- 150 -->\n      <g transform=\"translate(151.574688 242.612969)scale(0.1 -0.1)\">\n       <use xlink:href=\"#DejaVuSans-31\"/>\n       <use xlink:href=\"#DejaVuSans-35\" x=\"63.623047\"/>\n       <use xlink:href=\"#DejaVuSans-30\" x=\"127.246094\"/>\n      </g>\n     </g>\n    </g>\n    <g id=\"xtick_5\">\n     <g id=\"line2d_5\">\n      <g>\n       <use xlink:href=\"#mf20860c8da\" x=\"203.587187\" y=\"228.014531\" style=\"stroke: #000000; stroke-width: 0.8\"/>\n      </g>\n     </g>\n     <g id=\"text_5\">\n      <!-- 200 -->\n      <g transform=\"translate(194.043438 242.612969)scale(0.1 -0.1)\">\n       <defs>\n        <path id=\"DejaVuSans-32\" d=\"M 1228 531 \nL 3431 531 \nL 3431 0 \nL 469 0 \nL 469 531 \nQ 828 903 1448 1529 \nQ 2069 2156 2228 2338 \nQ 2531 2678 2651 2914 \nQ 2772 3150 2772 3378 \nQ 2772 3750 2511 3984 \nQ 2250 4219 1831 4219 \nQ 1534 4219 1204 4116 \nQ 875 4013 500 3803 \nL 500 4441 \nQ 881 4594 1212 4672 \nQ 1544 4750 1819 4750 \nQ 2544 4750 2975 4387 \nQ 3406 4025 3406 3419 \nQ 3406 3131 3298 2873 \nQ 3191 2616 2906 2266 \nQ 2828 2175 2409 1742 \nQ 1991 1309 1228 531 \nz\n\" transform=\"scale(0.015625)\"/>\n       </defs>\n       <use xlink:href=\"#DejaVuSans-32\"/>\n       <use xlink:href=\"#DejaVuSans-30\" x=\"63.623047\"/>\n       <use xlink:href=\"#DejaVuSans-30\" x=\"127.246094\"/>\n      </g>\n     </g>\n    </g>\n    <g id=\"xtick_6\">\n     <g id=\"line2d_6\">\n      <g>\n       <use xlink:href=\"#mf20860c8da\" x=\"246.055937\" y=\"228.014531\" style=\"stroke: #000000; stroke-width: 0.8\"/>\n      </g>\n     </g>\n     <g id=\"text_6\">\n      <!-- 250 -->\n      <g transform=\"translate(236.512188 242.612969)scale(0.1 -0.1)\">\n       <use xlink:href=\"#DejaVuSans-32\"/>\n       <use xlink:href=\"#DejaVuSans-35\" x=\"63.623047\"/>\n       <use xlink:href=\"#DejaVuSans-30\" x=\"127.246094\"/>\n      </g>\n     </g>\n    </g>\n   </g>\n   <g id=\"matplotlib.axis_2\">\n    <g id=\"ytick_1\">\n     <g id=\"line2d_7\">\n      <defs>\n       <path id=\"mc0e65f78a7\" d=\"M 0 0 \nL -3.5 0 \n\" style=\"stroke: #000000; stroke-width: 0.8\"/>\n      </defs>\n      <g>\n       <use xlink:href=\"#mc0e65f78a7\" x=\"33.2875\" y=\"10.999219\" style=\"stroke: #000000; stroke-width: 0.8\"/>\n      </g>\n     </g>\n     <g id=\"text_7\">\n      <!-- 0 -->\n      <g transform=\"translate(19.925 14.798438)scale(0.1 -0.1)\">\n       <use xlink:href=\"#DejaVuSans-30\"/>\n      </g>\n     </g>\n    </g>\n    <g id=\"ytick_2\">\n     <g id=\"line2d_8\">\n      <g>\n       <use xlink:href=\"#mc0e65f78a7\" x=\"33.2875\" y=\"53.467969\" style=\"stroke: #000000; stroke-width: 0.8\"/>\n      </g>\n     </g>\n     <g id=\"text_8\">\n      <!-- 50 -->\n      <g transform=\"translate(13.5625 57.267188)scale(0.1 -0.1)\">\n       <use xlink:href=\"#DejaVuSans-35\"/>\n       <use xlink:href=\"#DejaVuSans-30\" x=\"63.623047\"/>\n      </g>\n     </g>\n    </g>\n    <g id=\"ytick_3\">\n     <g id=\"line2d_9\">\n      <g>\n       <use xlink:href=\"#mc0e65f78a7\" x=\"33.2875\" y=\"95.936719\" style=\"stroke: #000000; stroke-width: 0.8\"/>\n      </g>\n     </g>\n     <g id=\"text_9\">\n      <!-- 100 -->\n      <g transform=\"translate(7.2 99.735938)scale(0.1 -0.1)\">\n       <use xlink:href=\"#DejaVuSans-31\"/>\n       <use xlink:href=\"#DejaVuSans-30\" x=\"63.623047\"/>\n       <use xlink:href=\"#DejaVuSans-30\" x=\"127.246094\"/>\n      </g>\n     </g>\n    </g>\n    <g id=\"ytick_4\">\n     <g id=\"line2d_10\">\n      <g>\n       <use xlink:href=\"#mc0e65f78a7\" x=\"33.2875\" y=\"138.405469\" style=\"stroke: #000000; stroke-width: 0.8\"/>\n      </g>\n     </g>\n     <g id=\"text_10\">\n      <!-- 150 -->\n      <g transform=\"translate(7.2 142.204688)scale(0.1 -0.1)\">\n       <use xlink:href=\"#DejaVuSans-31\"/>\n       <use xlink:href=\"#DejaVuSans-35\" x=\"63.623047\"/>\n       <use xlink:href=\"#DejaVuSans-30\" x=\"127.246094\"/>\n      </g>\n     </g>\n    </g>\n    <g id=\"ytick_5\">\n     <g id=\"line2d_11\">\n      <g>\n       <use xlink:href=\"#mc0e65f78a7\" x=\"33.2875\" y=\"180.874219\" style=\"stroke: #000000; stroke-width: 0.8\"/>\n      </g>\n     </g>\n     <g id=\"text_11\">\n      <!-- 200 -->\n      <g transform=\"translate(7.2 184.673438)scale(0.1 -0.1)\">\n       <use xlink:href=\"#DejaVuSans-32\"/>\n       <use xlink:href=\"#DejaVuSans-30\" x=\"63.623047\"/>\n       <use xlink:href=\"#DejaVuSans-30\" x=\"127.246094\"/>\n      </g>\n     </g>\n    </g>\n    <g id=\"ytick_6\">\n     <g id=\"line2d_12\">\n      <g>\n       <use xlink:href=\"#mc0e65f78a7\" x=\"33.2875\" y=\"223.342969\" style=\"stroke: #000000; stroke-width: 0.8\"/>\n      </g>\n     </g>\n     <g id=\"text_12\">\n      <!-- 250 -->\n      <g transform=\"translate(7.2 227.142188)scale(0.1 -0.1)\">\n       <use xlink:href=\"#DejaVuSans-32\"/>\n       <use xlink:href=\"#DejaVuSans-35\" x=\"63.623047\"/>\n       <use xlink:href=\"#DejaVuSans-30\" x=\"127.246094\"/>\n      </g>\n     </g>\n    </g>\n   </g>\n   <g id=\"patch_3\">\n    <path d=\"M 33.2875 228.014531 \nL 33.2875 10.574531 \n\" style=\"fill: none; stroke: #000000; stroke-width: 0.8; stroke-linejoin: miter; stroke-linecap: square\"/>\n   </g>\n   <g id=\"patch_4\">\n    <path d=\"M 250.7275 228.014531 \nL 250.7275 10.574531 \n\" style=\"fill: none; stroke: #000000; stroke-width: 0.8; stroke-linejoin: miter; stroke-linecap: square\"/>\n   </g>\n   <g id=\"patch_5\">\n    <path d=\"M 33.2875 228.014531 \nL 250.7275 228.014531 \n\" style=\"fill: none; stroke: #000000; stroke-width: 0.8; stroke-linejoin: miter; stroke-linecap: square\"/>\n   </g>\n   <g id=\"patch_6\">\n    <path d=\"M 33.2875 10.574531 \nL 250.7275 10.574531 \n\" style=\"fill: none; stroke: #000000; stroke-width: 0.8; stroke-linejoin: miter; stroke-linecap: square\"/>\n   </g>\n  </g>\n </g>\n <defs>\n  <clipPath id=\"p0165664184\">\n   <rect x=\"33.2875\" y=\"10.574531\" width=\"217.44\" height=\"217.44\"/>\n  </clipPath>\n </defs>\n</svg>\n"
          },
          "metadata": {
            "needs_background": "light"
          }
        }
      ]
    },
    {
      "cell_type": "code",
      "source": [
        "predict_x"
      ],
      "metadata": {
        "colab": {
          "base_uri": "https://localhost:8080/"
        },
        "id": "xgSprVcIdoV9",
        "outputId": "b42e7055-4003-4769-f0c6-4e7d941a1f9f"
      },
      "execution_count": 45,
      "outputs": [
        {
          "output_type": "execute_result",
          "data": {
            "text/plain": [
              "0"
            ]
          },
          "metadata": {},
          "execution_count": 45
        }
      ]
    },
    {
      "cell_type": "code",
      "source": [],
      "metadata": {
        "id": "i7hevhrZdohO"
      },
      "execution_count": 37,
      "outputs": []
    },
    {
      "cell_type": "code",
      "source": [],
      "metadata": {
        "id": "gSJ9ZHyidojG"
      },
      "execution_count": 37,
      "outputs": []
    }
  ]
}